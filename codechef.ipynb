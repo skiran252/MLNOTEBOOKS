{
 "cells": [
  {
   "cell_type": "code",
   "execution_count": 2,
   "metadata": {},
   "outputs": [
    {
     "name": "stdout",
     "output_type": "stream",
     "text": [
      "1\n",
      "6 4\n",
      "1 2 3 3 2 2\n",
      "7 3 9 1 1 1\n",
      "5\n"
     ]
    }
   ],
   "source": [
    "t=int(input())\n",
    "outputs=[]\n",
    "for itr in range(t):\n",
    "    n,m=map(int,input().split())\n",
    "    baskets=list(map(int,input().split()))\n",
    "    prices=list(map(int,input().split()))\n",
    "    types=[0]*m\n",
    "    for i in range(0,n):\n",
    "        types[baskets[i]]+=prices[i]\n",
    "    for i in range(len(types)):\n",
    "        if types[i]==0:\n",
    "            types[i]=999\n",
    "    outputs.append(min(types))\n",
    "for i in outputs:\n",
    "    print(i)"
   ]
  },
  {
   "cell_type": "code",
   "execution_count": null,
   "metadata": {},
   "outputs": [],
   "source": []
  }
 ],
 "metadata": {
  "kernelspec": {
   "display_name": "Python 3",
   "language": "python",
   "name": "python3"
  },
  "language_info": {
   "codemirror_mode": {
    "name": "ipython",
    "version": 3
   },
   "file_extension": ".py",
   "mimetype": "text/x-python",
   "name": "python",
   "nbconvert_exporter": "python",
   "pygments_lexer": "ipython3",
   "version": "3.7.4"
  }
 },
 "nbformat": 4,
 "nbformat_minor": 2
}
