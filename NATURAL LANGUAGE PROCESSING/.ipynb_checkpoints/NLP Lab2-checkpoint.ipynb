{
 "cells": [
  {
   "cell_type": "markdown",
   "metadata": {},
   "source": [
    "## IN LAB-1"
   ]
  },
  {
   "cell_type": "code",
   "execution_count": 1,
   "metadata": {},
   "outputs": [
    {
     "name": "stdout",
     "output_type": "stream",
     "text": [
      "Maximum : maximum\n",
      "students : student\n",
      "are : are\n",
      "Suffering : suffer\n",
      "from : from\n",
      "Insominia : insominia\n",
      "computer : comput\n"
     ]
    }
   ],
   "source": [
    "import nltk\n",
    "from nltk.stem.snowball import PorterStemmer\n",
    "from nltk.tokenize import word_tokenize\n",
    "ps=PorterStemmer()\n",
    "sentence=\"Maximum students are Suffering from Insominia computer\"\n",
    "words=word_tokenize(sentence)\n",
    "for w in words:\n",
    "    print(w,\":\",ps.stem(w))"
   ]
  },
  {
   "cell_type": "markdown",
   "metadata": {},
   "source": [
    "## IN LAB -2"
   ]
  },
  {
   "cell_type": "code",
   "execution_count": 2,
   "metadata": {},
   "outputs": [
    {
     "name": "stdout",
     "output_type": "stream",
     "text": [
      "['Chinnu', 'is', 'the', 'one', 'who', 'protect', 'lilly']\n",
      "length= 7\n"
     ]
    }
   ],
   "source": [
    "from nltk.tokenize import word_tokenize\n",
    "sentence=\"Chinnu is the one who protect lilly\"\n",
    "words=word_tokenize(sentence)\n",
    "print(words)\n",
    "print(\"length=\",len(words))"
   ]
  },
  {
   "cell_type": "markdown",
   "metadata": {},
   "source": [
    "## POST LAB"
   ]
  },
  {
   "cell_type": "code",
   "execution_count": 6,
   "metadata": {},
   "outputs": [
    {
     "data": {
      "text/plain": [
       "['Chinnu', 'one', 'protect', 'lilly']"
      ]
     },
     "execution_count": 6,
     "metadata": {},
     "output_type": "execute_result"
    }
   ],
   "source": [
    "from nltk.corpus import stopwords\n",
    "#nltk.download(\"stopwords\")\n",
    "text=\"Chinnu is the one who protect lilly\"\n",
    "tokenized=word_tokenize(text)\n",
    "stopwords=stopwords.words('english')\n",
    "stopwords[:5]\n",
    "[word for word in tokenized if word not in stopwords]"
   ]
  },
  {
   "cell_type": "code",
   "execution_count": null,
   "metadata": {},
   "outputs": [],
   "source": []
  },
  {
   "cell_type": "code",
   "execution_count": null,
   "metadata": {},
   "outputs": [],
   "source": []
  }
 ],
 "metadata": {
  "kernelspec": {
   "display_name": "Python 3",
   "language": "python",
   "name": "python3"
  },
  "language_info": {
   "codemirror_mode": {
    "name": "ipython",
    "version": 3
   },
   "file_extension": ".py",
   "mimetype": "text/x-python",
   "name": "python",
   "nbconvert_exporter": "python",
   "pygments_lexer": "ipython3",
   "version": "3.7.4"
  }
 },
 "nbformat": 4,
 "nbformat_minor": 2
}
