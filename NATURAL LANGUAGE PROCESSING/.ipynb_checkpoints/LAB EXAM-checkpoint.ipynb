{
 "cells": [
  {
   "cell_type": "code",
   "execution_count": 2,
   "metadata": {},
   "outputs": [
    {
     "name": "stdout",
     "output_type": "stream",
     "text": [
      "['hello', 'mr.', 'smith', ',', 'today', '?', ',', 'weather', 'great', ',', 'city', 'awesome.', ',', 'sky', 'pinkish-blue.you', \"n't\", 'eat', 'cardboard']\n"
     ]
    }
   ],
   "source": [
    "from nltk.corpus import stopwords       #importing stopwords (connectives or prepositions)\n",
    "from nltk.tokenize import word_tokenize\n",
    "\n",
    "example = \"Hello Mr. Smith, how are you doing today?,The weather is great, and city is awesome.,The sky is pinkish-blue.You shouldn't eat cardboard\"\n",
    "example = example.lower()\n",
    "stop_words = set(stopwords.words('english'))\n",
    "word = word_tokenize(example)\n",
    "\n",
    "filtered = [w for w in word if not w in stop_words]\n",
    "print(filtered)"
   ]
  },
  {
   "cell_type": "code",
   "execution_count": null,
   "metadata": {},
   "outputs": [],
   "source": [
    "import nltk\n",
    "from nltk.tokenize import word_tokenize\n",
    "from nltk.tag import pos_tag\n",
    "from nltk import Tree, pos_tag, ne_chunk\n",
    "example = \"European authorities fined Google a record $5.1 billion on Wednesday for abusing its power in the mobile phone market and ordered the company to alter its practices\"\n",
    "text = nltk.word_tokenize(example)\n",
    "text = nltk.pos_tag(text)\n",
    "print(\"PROCESSED TEXT\")\n",
    "print(text)\n",
    "chunkGram = r\"\"\"Chunk: {<RB.?>*<VB.?>*<NNP>+<NN>?}\"\"\"\n",
    "chunkParser = nltk.RegexpParser(chunkGram)\n",
    "chunked = chunkParser.parse(text)\n",
    "print(\"Parsed Text using shallow parsing\")\n",
    "print(chunked)\n",
    "ne_tree = ne_chunk(text)\n",
    "print(ne_tree)\n"
   ]
  }
 ],
 "metadata": {
  "kernelspec": {
   "display_name": "Python 3",
   "language": "python",
   "name": "python3"
  },
  "language_info": {
   "codemirror_mode": {
    "name": "ipython",
    "version": 3
   },
   "file_extension": ".py",
   "mimetype": "text/x-python",
   "name": "python",
   "nbconvert_exporter": "python",
   "pygments_lexer": "ipython3",
   "version": "3.7.4"
  }
 },
 "nbformat": 4,
 "nbformat_minor": 2
}
