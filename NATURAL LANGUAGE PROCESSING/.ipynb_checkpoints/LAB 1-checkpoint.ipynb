{
 "cells": [
  {
   "cell_type": "markdown",
   "metadata": {},
   "source": [
    "# LAB 1 (IN-LAB)"
   ]
  },
  {
   "cell_type": "code",
   "execution_count": 6,
   "metadata": {},
   "outputs": [
    {
     "name": "stdout",
     "output_type": "stream",
     "text": [
      "['running', 'is', 'a', 'art', '.', 'killing', 'is', 'sport']\n",
      "running  :  run\n",
      "is  :  is\n",
      "a  :  a\n",
      "art  :  art\n",
      ".  :  .\n",
      "killing  :  kill\n",
      "is  :  is\n",
      "sport  :  sport\n"
     ]
    }
   ],
   "source": [
    "from nltk.stem import PorterStemmer\n",
    "from nltk.tokenize import word_tokenize\n",
    "ps = PorterStemmer()\n",
    "sentence = \"running is a art. killing is sport\"\n",
    "words = word_tokenize(sentence)\n",
    "print(words)\n",
    "\n",
    "for w in words:\n",
    "    print(w, \" : \", ps.stem(w))\n"
   ]
  },
  {
   "cell_type": "markdown",
   "metadata": {},
   "source": [
    "# INLAB -2"
   ]
  },
  {
   "cell_type": "code",
   "execution_count": 7,
   "metadata": {},
   "outputs": [
    {
     "name": "stdout",
     "output_type": "stream",
     "text": [
      "['Cheap', 'ass', 'shit', 'man', ',', 'my', 'grandmother', 'can', 'do', 'this', 'shit', '.', 'Chinnu', 'is', 'a', 'lazy', 'bitch', 'by', 'the', 'way', '.']\n",
      "The number of words in string are : 18\n"
     ]
    }
   ],
   "source": [
    "from nltk.tokenize import word_tokenize \n",
    "sentence = \"Cheap ass shit man, my grandmother can do this shit. Chinnu is a lazy bitch by the way.\"\n",
    "words = word_tokenize(sentence) \n",
    "print(words)\n",
    "res = len(sentence.split()) \n",
    "print (\"The number of words in string are : \" +  str(res)) \n"
   ]
  },
  {
   "cell_type": "code",
   "execution_count": 12,
   "metadata": {},
   "outputs": [
    {
     "name": "stdout",
     "output_type": "stream",
     "text": [
      "{'only', 'of', 'very', 'can', 'by', 'does', 'she', \"it's\", 'where', 'over', \"doesn't\", 'down', 'until', 'mustn', 'same', 'those', 'any', 'm', 'such', \"mightn't\", \"wasn't\", 'him', 'during', 'himself', 'them', 'yourself', 'how', 'are', 'don', 'isn', 'at', 'other', 'd', 'wouldn', 've', 'myself', 'an', 'been', 'doesn', 'having', 'mightn', 'not', 'between', 'is', 'up', 'a', 'hasn', 'more', 'below', 'll', 'too', 'as', 'against', 'so', \"haven't\", 'nor', 's', 'some', 'now', 'did', \"weren't\", 'am', 'further', 'won', 'you', 'again', \"hadn't\", \"shouldn't\", 'we', 'to', 'haven', 'own', 'why', 'it', 'o', 'above', \"don't\", 'will', \"couldn't\", 'didn', 'weren', 'into', 'on', 'all', 'just', 'when', \"you're\", 'if', 'with', 'ours', 'these', 'they', 'most', 'that', 're', 'ourselves', 'no', \"mustn't\", 'doing', 'here', \"won't\", 'which', 'were', 'than', 'the', 'has', 'few', 'in', 'under', 'its', 'have', 'our', 'hadn', 'before', 'out', 'theirs', 'each', 'themselves', 'or', 'both', 'whom', 'shan', 'while', \"hasn't\", 'because', 'had', \"you'd\", 'y', 'wasn', 'hers', \"should've\", 'from', 'about', 'off', 'ain', \"aren't\", 'once', 'his', 'i', 'what', 'be', 'but', 'yourselves', 'couldn', 'and', \"isn't\", 'he', 'was', 'for', \"that'll\", 'my', 'needn', \"needn't\", 'who', 'should', \"you'll\", 'her', 'herself', 'shouldn', 'their', 'me', 'aren', 'being', 'there', 'ma', \"you've\", 'your', \"shan't\", \"didn't\", \"she's\", 'this', 'then', \"wouldn't\", 't', 'itself', 'do', 'yours', 'through', 'after'}\n",
      "\n",
      "\n",
      "['Example', 'sentence', ',', 'example']\n"
     ]
    }
   ],
   "source": [
    "from nltk.corpus import stopwords\n",
    "from nltk.tokenize import word_tokenize\n",
    "\n",
    "example = \"Example sentence, this is an example\"\n",
    "stop_words = set(stopwords.words('english'))\n",
    "print(stop_words,end=\"\\n\\n\\n\")\n",
    "word = word_tokenize(example)\n",
    "\n",
    "filtered = [w for w in word if not w in stop_words]\n",
    "filtered = []\n",
    "\n",
    "for w in word:\n",
    "    if w not in stop_words:\n",
    "        filtered.append(w)\n",
    "print(filtered)"
   ]
  },
  {
   "cell_type": "code",
   "execution_count": null,
   "metadata": {},
   "outputs": [],
   "source": []
  }
 ],
 "metadata": {
  "kernelspec": {
   "display_name": "Python 3",
   "language": "python",
   "name": "python3"
  },
  "language_info": {
   "codemirror_mode": {
    "name": "ipython",
    "version": 3
   },
   "file_extension": ".py",
   "mimetype": "text/x-python",
   "name": "python",
   "nbconvert_exporter": "python",
   "pygments_lexer": "ipython3",
   "version": "3.7.4"
  }
 },
 "nbformat": 4,
 "nbformat_minor": 2
}
