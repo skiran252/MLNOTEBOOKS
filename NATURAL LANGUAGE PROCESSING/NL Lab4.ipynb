{
 "cells": [
  {
   "cell_type": "code",
   "execution_count": 3,
   "metadata": {},
   "outputs": [
    {
     "name": "stdout",
     "output_type": "stream",
     "text": [
      "[[I_NOUN [SHOT_VERB [AN_DET ELEPHANT_NOUN]_NP]_VP]_NP [IN_PREP [MY_MOD PYJAMAS_NOUN]_NP]_NP]_S\n"
     ]
    }
   ],
   "source": [
    "class Node:\n",
    "    '''Think this as a cell in your table'''\n",
    "    def __init__(self,left,right, nodetype, word):\n",
    "        self.left = left\n",
    "        self.right = right\n",
    "        self.type = nodetype\n",
    "        self.word = word\n",
    "\n",
    "# Declare terminals\n",
    "t1 = Node(None,None,'NOUN','I')\n",
    "t2 = Node(None,None,'VERB', 'SHOT')\n",
    "t3 = Node(None,None,'DET','AN')\n",
    "t4 = Node(None,None,'NOUN','ELEPHANT')\n",
    "t5= Node(None,None,'PREP', 'IN')\n",
    "t6 = Node(None,None,'MOD','MY') \n",
    "t8 = Node(None,None,'NOUN','PYJAMAS')\n",
    "    \n",
    "\n",
    "# Declare non-terminals\n",
    "nt1 = Node(t3,t4, 'NP', None)\n",
    "nt2 = Node(t2,nt1, 'VP', None)\n",
    "nt3 = Node(t6,t8,'NP', None)\n",
    "nt4 = Node(t1,nt2,'NP',None)\n",
    "nt5 = Node(t5,nt3,'NP', None)\n",
    "nt6= Node(nt4,nt5,'S',None)\n",
    "\n",
    "\n",
    "def unfold(node):\n",
    "    # Check for a terminal\n",
    "    if node.left == None and node.right == None:\n",
    "        return node.word+\"_\"+node.type\n",
    "\n",
    "    return \"[\"+unfold(node.left)+\" \"+unfold(node.right)+\"]_\"+node.type\n",
    "\n",
    "print (unfold(nt6))"
   ]
  },
  {
   "cell_type": "code",
   "execution_count": 7,
   "metadata": {},
   "outputs": [
    {
     "name": "stderr",
     "output_type": "stream",
     "text": [
      "[nltk_data] Downloading package treebank to\n",
      "[nltk_data]     C:\\Users\\KIRAN\\AppData\\Roaming\\nltk_data...\n",
      "[nltk_data]   Unzipping corpora\\treebank.zip.\n"
     ]
    },
    {
     "data": {
      "text/plain": [
       "True"
      ]
     },
     "execution_count": 7,
     "metadata": {},
     "output_type": "execute_result"
    }
   ],
   "source": [
    "nltk.download('treebank')"
   ]
  },
  {
   "cell_type": "code",
   "execution_count": 9,
   "metadata": {},
   "outputs": [
    {
     "name": "stdout",
     "output_type": "stream",
     "text": [
      "(S\n",
      "  (NP-SBJ\n",
      "    (NP (NNP Pierre) (NNP Vinken))\n",
      "    (, ,)\n",
      "    (ADJP (NP (CD 61) (NNS years)) (JJ old))\n",
      "    (, ,))\n",
      "  (VP\n",
      "    (MD will)\n",
      "    (VP\n",
      "      (VB join)\n",
      "      (NP (DT the) (NN board))\n",
      "      (PP-CLR (IN as) (NP (DT a) (JJ nonexecutive) (NN director)))\n",
      "      (NP-TMP (NNP Nov.) (CD 29))))\n",
      "  (. .))\n"
     ]
    }
   ],
   "source": [
    "import nltk\n",
    "print(nltk.corpus.treebank.parsed_sents('wsj_0001.mrg')[0])"
   ]
  },
  {
   "cell_type": "code",
   "execution_count": null,
   "metadata": {},
   "outputs": [],
   "source": []
  }
 ],
 "metadata": {
  "kernelspec": {
   "display_name": "Python 3",
   "language": "python",
   "name": "python3"
  },
  "language_info": {
   "codemirror_mode": {
    "name": "ipython",
    "version": 3
   },
   "file_extension": ".py",
   "mimetype": "text/x-python",
   "name": "python",
   "nbconvert_exporter": "python",
   "pygments_lexer": "ipython3",
   "version": "3.7.4"
  }
 },
 "nbformat": 4,
 "nbformat_minor": 2
}
