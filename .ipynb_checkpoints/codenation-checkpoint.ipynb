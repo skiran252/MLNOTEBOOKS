{
 "cells": [
  {
   "cell_type": "code",
   "execution_count": null,
   "metadata": {},
   "outputs": [
    {
     "name": "stdout",
     "output_type": "stream",
     "text": [
      "4\n",
      "1 2 3 4\n"
     ]
    }
   ],
   "source": [
    "def checksum(arr,k,n):\n",
    "    count=0\n",
    "    for y in range(pow(2,n)):\n",
    "        b=bin(y)\n",
    "        bstr=str(b)\n",
    "        bstr=bstr[::-1]\n",
    "        sumk=0\n",
    "        for i in range(0,len(bstr)-2):\n",
    "            if(bstr[i]=='1'):\n",
    "                sumk+=arr[i]\n",
    "        if(sumk==k):\n",
    "            count+=1\n",
    "        \n",
    "                   \n",
    "    return count\n",
    "                \n",
    "                   \n",
    "        \n",
    "n=int(input())\n",
    "arr=list(map(int,input().split()))\n",
    "k=int(input())\n",
    "for i in range(k):\n",
    "    test[i]=int(input())\n",
    "for z in range(k):\n",
    "    res=checksum(arr,test[z],n)\n",
    "    print(res)\n",
    "    "
   ]
  },
  {
   "cell_type": "markdown",
   "metadata": {},
   "source": []
  }
 ],
 "metadata": {
  "kernelspec": {
   "display_name": "Python 3",
   "language": "python",
   "name": "python3"
  },
  "language_info": {
   "codemirror_mode": {
    "name": "ipython",
    "version": 3
   },
   "file_extension": ".py",
   "mimetype": "text/x-python",
   "name": "python",
   "nbconvert_exporter": "python",
   "pygments_lexer": "ipython3",
   "version": "3.7.4"
  }
 },
 "nbformat": 4,
 "nbformat_minor": 2
}
