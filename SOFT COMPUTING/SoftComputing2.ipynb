{
 "cells": [
  {
   "cell_type": "code",
   "execution_count": 1,
   "metadata": {},
   "outputs": [
    {
     "name": "stderr",
     "output_type": "stream",
     "text": [
      "C:\\ProgramData\\Anaconda3\\lib\\site-packages\\skfuzzy\\control\\fuzzyvariable.py:122: UserWarning: Matplotlib is currently using module://ipykernel.pylab.backend_inline, which is a non-GUI backend, so cannot show the figure.\n",
      "  fig.show()\n"
     ]
    },
    {
     "name": "stdout",
     "output_type": "stream",
     "text": [
      "6.794110768968387\n"
     ]
    }
   ],
   "source": [
    "import numpy as np\n",
    "import skfuzzy as fuzz\n",
    "from skfuzzy import control as ctrl\n",
    "\n",
    "height=ctrl.Antecedent(np.arange(0,60,10),'height')\n",
    "height.automf(5)\n",
    "height.view()\n",
    "\n",
    "lheight=ctrl.Consequent(np.arange(0,11,2),'lheight')\n",
    "lheight['very short']=fuzz.gaussmf(lheight.universe,5,5)\n",
    "lheight['short']=fuzz.gaussmf(lheight.universe,15,5)\n",
    "lheight['normal']=fuzz.gaussmf(lheight.universe,25,5)\n",
    "lheight['tall']=fuzz.gaussmf(lheight.universe,35,5)\n",
    "lheight['very tall']=fuzz.gaussmf(lheight.universe,45,5)\n",
    "rule1=ctrl.Rule(height['good'],lheight['very tall'])\n",
    "rule2=ctrl.Rule(height['decent'],lheight['tall'])\n",
    "rule3=ctrl.Rule(height['average'],lheight['normal'])\n",
    "rule4=ctrl.Rule(height['mediocre'],lheight['short'])\n",
    "rule5=ctrl.Rule(height['poor'],lheight['very short'])\n",
    "lv_ctrl=ctrl.ControlSystem([rule1,rule2,rule3,rule4,rule5])\n",
    "lv=ctrl.ControlSystemSimulation(lv_ctrl)\n",
    "lv.input['height'] =15\n",
    "lv.compute()\n",
    "print (lv.output['lheight'])\n",
    "lheight.view(sim=lv)"
   ]
  },
  {
   "cell_type": "code",
   "execution_count": null,
   "metadata": {},
   "outputs": [],
   "source": []
  }
 ],
 "metadata": {
  "kernelspec": {
   "display_name": "Python 3",
   "language": "python",
   "name": "python3"
  },
  "language_info": {
   "codemirror_mode": {
    "name": "ipython",
    "version": 3
   },
   "file_extension": ".py",
   "mimetype": "text/x-python",
   "name": "python",
   "nbconvert_exporter": "python",
   "pygments_lexer": "ipython3",
   "version": "3.7.3"
  }
 },
 "nbformat": 4,
 "nbformat_minor": 2
}
