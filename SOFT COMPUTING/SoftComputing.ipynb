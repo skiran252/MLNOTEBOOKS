{
 "cells": [
  {
   "cell_type": "code",
   "execution_count": 8,
   "metadata": {},
   "outputs": [],
   "source": [
    "import numpy as np"
   ]
  },
  {
   "cell_type": "code",
   "execution_count": 9,
   "metadata": {},
   "outputs": [],
   "source": [
    "P=np.array([[0.6,0.6,0.8,0.9],[0.1,0.2,0.9,0.8],[0.9,0.3,0.4,0.8],[0.9,0.8,0.1,0.2]])"
   ]
  },
  {
   "cell_type": "code",
   "execution_count": 10,
   "metadata": {},
   "outputs": [],
   "source": [
    "Q=np.array([[0.1,0.2,0.7,0.9],[1,1,0.4,0.6],[0,0,0.5,0.9],[0.9,1,0.8,0.2]])"
   ]
  },
  {
   "cell_type": "code",
   "execution_count": 11,
   "metadata": {},
   "outputs": [],
   "source": [
    "Z=np.transpose(Q)"
   ]
  },
  {
   "cell_type": "code",
   "execution_count": 10,
   "metadata": {},
   "outputs": [
    {
     "name": "stdout",
     "output_type": "stream",
     "text": [
      "[[0.9 0.9 0.8 0.8]\n",
      " [0.8 0.8 0.8 0.9]\n",
      " [0.8 0.8 0.8 0.9]\n",
      " [0.8 0.8 0.7 0.9]]\n"
     ]
    }
   ],
   "source": [
    "ans=[]\n",
    "final=[]\n",
    "for i in P:\n",
    "    for j in Z:\n",
    "        ans.append(max(np.minimum(i,j)))\n",
    "final=np.array(ans)\n",
    "f=final.reshape(4,4)\n",
    "print(f)"
   ]
  },
  {
   "cell_type": "code",
   "execution_count": 11,
   "metadata": {},
   "outputs": [
    {
     "name": "stdout",
     "output_type": "stream",
     "text": [
      "[[0.81 0.9  0.72 0.72]\n",
      " [0.72 0.8  0.64 0.81]\n",
      " [0.72 0.8  0.64 0.81]\n",
      " [0.8  0.8  0.63 0.81]]\n"
     ]
    }
   ],
   "source": [
    "ans1=[]\n",
    "final1=[]\n",
    "for i in P:\n",
    "    for j in Z:\n",
    "        ans1.append(max(np.multiply(i,j)))\n",
    "\n",
    "final1=np.array(ans1)\n",
    "f1=final1.reshape(4,4)\n",
    "print(f1)\n",
    "\n",
    "            "
   ]
  },
  {
   "cell_type": "code",
   "execution_count": null,
   "metadata": {},
   "outputs": [],
   "source": []
  }
 ],
 "metadata": {
  "kernelspec": {
   "display_name": "Python 3",
   "language": "python",
   "name": "python3"
  },
  "language_info": {
   "codemirror_mode": {
    "name": "ipython",
    "version": 3
   },
   "file_extension": ".py",
   "mimetype": "text/x-python",
   "name": "python",
   "nbconvert_exporter": "python",
   "pygments_lexer": "ipython3",
   "version": "3.7.3"
  }
 },
 "nbformat": 4,
 "nbformat_minor": 2
}
