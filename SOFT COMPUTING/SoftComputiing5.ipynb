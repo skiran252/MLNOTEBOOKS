{
 "cells": [
  {
   "cell_type": "code",
   "execution_count": 5,
   "metadata": {},
   "outputs": [
    {
     "name": "stdout",
     "output_type": "stream",
     "text": [
      "++ ANDNOT Gate ++\n",
      "Weights are : 1, -1\n",
      "Threshold is 1\n",
      "\n"
     ]
    }
   ],
   "source": [
    "class MP_Neuron():\n",
    "    threshold = 0\n",
    "    w1 = 0\n",
    "    w2 = 0\n",
    "    possible_w1_vals = [-1, 1]\n",
    "    possible_w2_vals = [-1, 1]\n",
    "    possible_thresh_vals = [-2, -1, 0, 1, 2]\n",
    "    def __init__(self,input_matrix):\n",
    "        self.input_matrix = input_matrix\n",
    "    def iterate_all_values(self):\n",
    "        for w1 in self.possible_w1_vals:\n",
    "            self.w1 = w1\n",
    "            for w2 in self.possible_w2_vals:\n",
    "                self.w2 = w2\n",
    "                for threshold in self.possible_thresh_vals:\n",
    "                    self.threshold = threshold\n",
    "                    if self.check_combination():\n",
    "                        return True\n",
    "        return False\n",
    "    def check_combination(self):\n",
    "        valid = True\n",
    "        for (x1, x2, y) in self.input_matrix:\n",
    "            if not self.compare_target(x1, x2, y):\n",
    "                valid = False\n",
    "        return valid\n",
    "    def compare_target(self, x1, x2, target):\n",
    "        if self.neuron_activate(x1, x2) == target:\n",
    "            return True\n",
    "        else:\n",
    "            return False\n",
    "    def neuron_activate(self, x1, x2):\n",
    "        output = self.w1*x1 + self.w2*x2\n",
    "\n",
    "        if output >= self.threshold:\n",
    "            return 1\n",
    "        else:\n",
    "            return 0\n",
    "if __name__==\"__main__\":\n",
    "\n",
    "    ANDNOT_Matrix = [\n",
    "        [-1, -1, 0],\n",
    "        [-1,  1, 0],\n",
    "        [ 1, -1, 1],\n",
    "        [ 1,  1, 0],\n",
    "    ]\n",
    "\n",
    "    def neuron_calculate(mp):\n",
    "        if mp.iterate_all_values():\n",
    "            print(\"Weights are : {}, {}\".format(mp.w1, mp.w2))\n",
    "            print(\"Threshold is {}\".format(mp.threshold))\n",
    "        else:\n",
    "            print(\"Not linearly separable.\")\n",
    "        print()\n",
    "\n",
    "    print(\"++ ANDNOT Gate ++\")\n",
    "    mp_AND = MP_Neuron(ANDNOT_Matrix)\n",
    "    neuron_calculate(mp_AND)"
   ]
  },
  {
   "cell_type": "code",
   "execution_count": null,
   "metadata": {},
   "outputs": [],
   "source": []
  }
 ],
 "metadata": {
  "kernelspec": {
   "display_name": "Python 3",
   "language": "python",
   "name": "python3"
  },
  "language_info": {
   "codemirror_mode": {
    "name": "ipython",
    "version": 3
   },
   "file_extension": ".py",
   "mimetype": "text/x-python",
   "name": "python",
   "nbconvert_exporter": "python",
   "pygments_lexer": "ipython3",
   "version": "3.7.3"
  }
 },
 "nbformat": 4,
 "nbformat_minor": 2
}
