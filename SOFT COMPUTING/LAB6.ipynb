{
 "cells": [
  {
   "cell_type": "code",
   "execution_count": 3,
   "metadata": {},
   "outputs": [
    {
     "name": "stdout",
     "output_type": "stream",
     "text": [
      "Input: [ 1 -1]\n",
      "Output for list_in = [ 1 -1]: apple\n",
      "Input: [-1  1]\n",
      "Output for list_in = [-1  1]: banana\n"
     ]
    }
   ],
   "source": [
    "import numpy as np\n",
    "def Hebb(list_in):\n",
    "    list_weight = np.array([[+0.5, -0.5],\\\n",
    "    [-0.5, +0.5]])\n",
    "    list_result = list_in.reshape((2,1)) * list_weight\n",
    "    list_result = list_result.sum(axis=0)\n",
    "    return classfication(list_result)\n",
    "\n",
    "def classfication(list_value):\n",
    "    # list_value = [ out_1, out_2 ]\n",
    "    if(list_value[0] >= 0 and list_value[1] < 0):\n",
    "        return 'apple'\n",
    "    elif(list_value[0] < 0 and list_value[1] >= 0):\n",
    "        return 'banana'\n",
    "\n",
    "def train(list_in, list_weight):\n",
    "    pass\n",
    "\n",
    "list_in = np.array([+1, -1])\n",
    "print('Input: %s' % list_in)\n",
    "out = Hebb(list_in)\n",
    "print('Output for list_in = %s: %s' % (list_in, out))\n",
    "\n",
    "list_in = np.array([-1, +1])\n",
    "print('Input: %s' % list_in)\n",
    "out = Hebb(list_in)\n",
    "print('Output for list_in = %s: %s' % (list_in, out))"
   ]
  },
  {
   "cell_type": "code",
   "execution_count": 4,
   "metadata": {},
   "outputs": [
    {
     "name": "stdout",
     "output_type": "stream",
     "text": [
      "initial weights:\n",
      "[ 1.  -1.   0.   0.5]\n",
      "final weights are:\n",
      "[ -99.  -401.   625.    50.5]\n"
     ]
    }
   ],
   "source": [
    "import numpy as np\n",
    "x1=np.array([1.0,-2,1.5,0.0])\n",
    "x2=np.array([1.0,-0.5,-2.0,-1.5])\n",
    "x3=np.array([0.0,1.0,-1.0,1.5])\n",
    "x4=np.array([1.0,1.5,-1.75,-0.5])\n",
    "inp=np.array([x1,x2,x3,x4])\n",
    "weight=np.array([1.0,-1.0,0.0,0.5])\n",
    "print(\"initial weights:\")\n",
    "print(weight)\n",
    "for i in range(100):\n",
    "    for j in inp:\n",
    "            c=np.dot(j.T,weight)\n",
    "            if(c>0):\n",
    "                c=1\n",
    "            elif(c<0):\n",
    "                c=-1\n",
    "            else:\n",
    "                c=0\n",
    "            weight=weight+(c*j)\n",
    "\n",
    "print(\"final weights are:\")\n",
    "print(weight)\n"
   ]
  },
  {
   "cell_type": "code",
   "execution_count": null,
   "metadata": {},
   "outputs": [],
   "source": []
  }
 ],
 "metadata": {
  "kernelspec": {
   "display_name": "Python 3",
   "language": "python",
   "name": "python3"
  },
  "language_info": {
   "codemirror_mode": {
    "name": "ipython",
    "version": 3
   },
   "file_extension": ".py",
   "mimetype": "text/x-python",
   "name": "python",
   "nbconvert_exporter": "python",
   "pygments_lexer": "ipython3",
   "version": "3.7.4"
  }
 },
 "nbformat": 4,
 "nbformat_minor": 2
}
