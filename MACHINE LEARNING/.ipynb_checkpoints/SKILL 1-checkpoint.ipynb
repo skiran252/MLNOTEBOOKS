{
 "cells": [
  {
   "cell_type": "markdown",
   "metadata": {},
   "source": [
    "### 1) Use series method to convert the following list[‘a’,’b’,’c’,’d’]"
   ]
  },
  {
   "cell_type": "code",
   "execution_count": 1,
   "metadata": {},
   "outputs": [
    {
     "data": {
      "text/plain": [
       "0    a\n",
       "1    b\n",
       "2    c\n",
       "3    d\n",
       "dtype: object"
      ]
     },
     "execution_count": 1,
     "metadata": {},
     "output_type": "execute_result"
    }
   ],
   "source": [
    "import pandas as pd\n",
    "s=pd.Series(['a','b','c','d'])\n",
    "s"
   ]
  },
  {
   "cell_type": "markdown",
   "metadata": {},
   "source": [
    "### 2. Given the lists which contain names of students and their scored marks you have to create data frames which club them all using pandas. student list is \n",
    "### ['praharsha' ,'mythresh', 'kowshik' ,'pranay', 'srujan' 'raju']\n",
    "### and you are given a 2d matrix which contain their marks. Their marks are [[77,89,92,95], [85,94,97,76], [77,88,99,74], [90,89,92,78], [83,97,80,98],[90,90,80,87]]\n",
    "### and subjects list containing ['bio','phy','che', 'mat']"
   ]
  },
  {
   "cell_type": "code",
   "execution_count": 2,
   "metadata": {},
   "outputs": [
    {
     "data": {
      "text/html": [
       "<div>\n",
       "<style scoped>\n",
       "    .dataframe tbody tr th:only-of-type {\n",
       "        vertical-align: middle;\n",
       "    }\n",
       "\n",
       "    .dataframe tbody tr th {\n",
       "        vertical-align: top;\n",
       "    }\n",
       "\n",
       "    .dataframe thead th {\n",
       "        text-align: right;\n",
       "    }\n",
       "</style>\n",
       "<table border=\"1\" class=\"dataframe\">\n",
       "  <thead>\n",
       "    <tr style=\"text-align: right;\">\n",
       "      <th></th>\n",
       "      <th>bio</th>\n",
       "      <th>phy</th>\n",
       "      <th>che</th>\n",
       "      <th>mat</th>\n",
       "    </tr>\n",
       "  </thead>\n",
       "  <tbody>\n",
       "    <tr>\n",
       "      <th>praharsha</th>\n",
       "      <td>77</td>\n",
       "      <td>89</td>\n",
       "      <td>92</td>\n",
       "      <td>95</td>\n",
       "    </tr>\n",
       "    <tr>\n",
       "      <th>mythresh</th>\n",
       "      <td>85</td>\n",
       "      <td>94</td>\n",
       "      <td>97</td>\n",
       "      <td>76</td>\n",
       "    </tr>\n",
       "    <tr>\n",
       "      <th>kowshik</th>\n",
       "      <td>77</td>\n",
       "      <td>88</td>\n",
       "      <td>99</td>\n",
       "      <td>74</td>\n",
       "    </tr>\n",
       "    <tr>\n",
       "      <th>pranay</th>\n",
       "      <td>90</td>\n",
       "      <td>89</td>\n",
       "      <td>92</td>\n",
       "      <td>78</td>\n",
       "    </tr>\n",
       "    <tr>\n",
       "      <th>srujan</th>\n",
       "      <td>83</td>\n",
       "      <td>97</td>\n",
       "      <td>80</td>\n",
       "      <td>98</td>\n",
       "    </tr>\n",
       "    <tr>\n",
       "      <th>raju</th>\n",
       "      <td>90</td>\n",
       "      <td>90</td>\n",
       "      <td>80</td>\n",
       "      <td>87</td>\n",
       "    </tr>\n",
       "  </tbody>\n",
       "</table>\n",
       "</div>"
      ],
      "text/plain": [
       "           bio  phy  che  mat\n",
       "praharsha   77   89   92   95\n",
       "mythresh    85   94   97   76\n",
       "kowshik     77   88   99   74\n",
       "pranay      90   89   92   78\n",
       "srujan      83   97   80   98\n",
       "raju        90   90   80   87"
      ]
     },
     "execution_count": 2,
     "metadata": {},
     "output_type": "execute_result"
    }
   ],
   "source": [
    "names=['praharsha' ,'mythresh', 'kowshik' ,'pranay', 'srujan','raju']\n",
    "marks=[[77,89,92,95], [85,94,97,76], [77,88,99,74], [90,89,92,78], [83,97,80,98],[90,90,80,87]]\n",
    "subs=['bio','phy','che', 'mat']\n",
    "df=pd.DataFrame(marks,index = names,columns = subs)\n",
    "df"
   ]
  },
  {
   "cell_type": "markdown",
   "metadata": {},
   "source": [
    "### 3.Add the sci , total columns to the data frame from which science is the sum of phy, che and bio and total is the sum of all subjects?"
   ]
  },
  {
   "cell_type": "code",
   "execution_count": 3,
   "metadata": {},
   "outputs": [],
   "source": [
    "df['Total'] = df.sum(axis=1)\n",
    "df['Sci']=df[['bio', 'phy', 'che']].sum(1)\n"
   ]
  },
  {
   "cell_type": "code",
   "execution_count": 4,
   "metadata": {},
   "outputs": [
    {
     "data": {
      "text/html": [
       "<div>\n",
       "<style scoped>\n",
       "    .dataframe tbody tr th:only-of-type {\n",
       "        vertical-align: middle;\n",
       "    }\n",
       "\n",
       "    .dataframe tbody tr th {\n",
       "        vertical-align: top;\n",
       "    }\n",
       "\n",
       "    .dataframe thead th {\n",
       "        text-align: right;\n",
       "    }\n",
       "</style>\n",
       "<table border=\"1\" class=\"dataframe\">\n",
       "  <thead>\n",
       "    <tr style=\"text-align: right;\">\n",
       "      <th></th>\n",
       "      <th>bio</th>\n",
       "      <th>phy</th>\n",
       "      <th>che</th>\n",
       "      <th>mat</th>\n",
       "      <th>Total</th>\n",
       "      <th>Sci</th>\n",
       "    </tr>\n",
       "  </thead>\n",
       "  <tbody>\n",
       "    <tr>\n",
       "      <th>praharsha</th>\n",
       "      <td>77</td>\n",
       "      <td>89</td>\n",
       "      <td>92</td>\n",
       "      <td>95</td>\n",
       "      <td>353</td>\n",
       "      <td>258</td>\n",
       "    </tr>\n",
       "    <tr>\n",
       "      <th>mythresh</th>\n",
       "      <td>85</td>\n",
       "      <td>94</td>\n",
       "      <td>97</td>\n",
       "      <td>76</td>\n",
       "      <td>352</td>\n",
       "      <td>276</td>\n",
       "    </tr>\n",
       "    <tr>\n",
       "      <th>kowshik</th>\n",
       "      <td>77</td>\n",
       "      <td>88</td>\n",
       "      <td>99</td>\n",
       "      <td>74</td>\n",
       "      <td>338</td>\n",
       "      <td>264</td>\n",
       "    </tr>\n",
       "    <tr>\n",
       "      <th>pranay</th>\n",
       "      <td>90</td>\n",
       "      <td>89</td>\n",
       "      <td>92</td>\n",
       "      <td>78</td>\n",
       "      <td>349</td>\n",
       "      <td>271</td>\n",
       "    </tr>\n",
       "    <tr>\n",
       "      <th>srujan</th>\n",
       "      <td>83</td>\n",
       "      <td>97</td>\n",
       "      <td>80</td>\n",
       "      <td>98</td>\n",
       "      <td>358</td>\n",
       "      <td>260</td>\n",
       "    </tr>\n",
       "    <tr>\n",
       "      <th>raju</th>\n",
       "      <td>90</td>\n",
       "      <td>90</td>\n",
       "      <td>80</td>\n",
       "      <td>87</td>\n",
       "      <td>347</td>\n",
       "      <td>260</td>\n",
       "    </tr>\n",
       "  </tbody>\n",
       "</table>\n",
       "</div>"
      ],
      "text/plain": [
       "           bio  phy  che  mat  Total  Sci\n",
       "praharsha   77   89   92   95    353  258\n",
       "mythresh    85   94   97   76    352  276\n",
       "kowshik     77   88   99   74    338  264\n",
       "pranay      90   89   92   78    349  271\n",
       "srujan      83   97   80   98    358  260\n",
       "raju        90   90   80   87    347  260"
      ]
     },
     "execution_count": 4,
     "metadata": {},
     "output_type": "execute_result"
    }
   ],
   "source": [
    "df"
   ]
  },
  {
   "cell_type": "markdown",
   "metadata": {},
   "source": [
    "### 4.Display only the marks scored by praharsha and srujan?"
   ]
  },
  {
   "cell_type": "code",
   "execution_count": 5,
   "metadata": {},
   "outputs": [
    {
     "name": "stdout",
     "output_type": "stream",
     "text": [
      "bio       77\n",
      "phy       89\n",
      "che       92\n",
      "mat       95\n",
      "Total    353\n",
      "Sci      258\n",
      "Name: praharsha, dtype: int64 bio       83\n",
      "phy       97\n",
      "che       80\n",
      "mat       98\n",
      "Total    358\n",
      "Sci      260\n",
      "Name: srujan, dtype: int64\n"
     ]
    }
   ],
   "source": [
    "print(df.loc['praharsha'],df.loc['srujan'])"
   ]
  },
  {
   "cell_type": "markdown",
   "metadata": {},
   "source": [
    "### 5. Display all the students marks who scored 90 + marks in physics?"
   ]
  },
  {
   "cell_type": "code",
   "execution_count": 6,
   "metadata": {},
   "outputs": [
    {
     "data": {
      "text/html": [
       "<div>\n",
       "<style scoped>\n",
       "    .dataframe tbody tr th:only-of-type {\n",
       "        vertical-align: middle;\n",
       "    }\n",
       "\n",
       "    .dataframe tbody tr th {\n",
       "        vertical-align: top;\n",
       "    }\n",
       "\n",
       "    .dataframe thead th {\n",
       "        text-align: right;\n",
       "    }\n",
       "</style>\n",
       "<table border=\"1\" class=\"dataframe\">\n",
       "  <thead>\n",
       "    <tr style=\"text-align: right;\">\n",
       "      <th></th>\n",
       "      <th>bio</th>\n",
       "      <th>phy</th>\n",
       "      <th>che</th>\n",
       "      <th>mat</th>\n",
       "      <th>Total</th>\n",
       "      <th>Sci</th>\n",
       "    </tr>\n",
       "  </thead>\n",
       "  <tbody>\n",
       "    <tr>\n",
       "      <th>mythresh</th>\n",
       "      <td>85</td>\n",
       "      <td>94</td>\n",
       "      <td>97</td>\n",
       "      <td>76</td>\n",
       "      <td>352</td>\n",
       "      <td>276</td>\n",
       "    </tr>\n",
       "    <tr>\n",
       "      <th>srujan</th>\n",
       "      <td>83</td>\n",
       "      <td>97</td>\n",
       "      <td>80</td>\n",
       "      <td>98</td>\n",
       "      <td>358</td>\n",
       "      <td>260</td>\n",
       "    </tr>\n",
       "  </tbody>\n",
       "</table>\n",
       "</div>"
      ],
      "text/plain": [
       "          bio  phy  che  mat  Total  Sci\n",
       "mythresh   85   94   97   76    352  276\n",
       "srujan     83   97   80   98    358  260"
      ]
     },
     "execution_count": 6,
     "metadata": {},
     "output_type": "execute_result"
    }
   ],
   "source": [
    "df[df[\"phy\"]>90]"
   ]
  },
  {
   "cell_type": "code",
   "execution_count": 8,
   "metadata": {},
   "outputs": [
    {
     "name": "stdout",
     "output_type": "stream",
     "text": [
      "Total Marks in Biology  502\n"
     ]
    }
   ],
   "source": [
    "print(\"Total Marks in Biology \",df['bio'].sum())"
   ]
  },
  {
   "cell_type": "markdown",
   "metadata": {},
   "source": [
    "# Using Startup DataSet"
   ]
  },
  {
   "cell_type": "code",
   "execution_count": null,
   "metadata": {},
   "outputs": [],
   "source": [
    "sup=pd.read_csv('50_Startups.csv')"
   ]
  }
 ],
 "metadata": {
  "kernelspec": {
   "display_name": "Python 3",
   "language": "python",
   "name": "python3"
  },
  "language_info": {
   "codemirror_mode": {
    "name": "ipython",
    "version": 3
   },
   "file_extension": ".py",
   "mimetype": "text/x-python",
   "name": "python",
   "nbconvert_exporter": "python",
   "pygments_lexer": "ipython3",
   "version": "3.7.3"
  }
 },
 "nbformat": 4,
 "nbformat_minor": 2
}
