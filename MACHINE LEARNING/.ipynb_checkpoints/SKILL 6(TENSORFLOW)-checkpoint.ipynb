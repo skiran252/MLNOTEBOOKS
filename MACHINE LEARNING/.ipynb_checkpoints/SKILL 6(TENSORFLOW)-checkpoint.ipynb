{
 "cells": [
  {
   "cell_type": "code",
   "execution_count": 1,
   "metadata": {},
   "outputs": [
    {
     "name": "stdout",
     "output_type": "stream",
     "text": [
      "30.0\n"
     ]
    }
   ],
   "source": [
    "import tensorflow as tf\n",
    "a=tf.constant(5.0)\n",
    "b=tf.constant(6.0)\n",
    "c=a*b\n",
    "sess=tf.Session()\n",
    "output_c=sess.run(c)\n",
    "print(output_c)\n",
    "sess.close()"
   ]
  },
  {
   "cell_type": "code",
   "execution_count": 2,
   "metadata": {},
   "outputs": [
    {
     "name": "stdout",
     "output_type": "stream",
     "text": [
      "11\n"
     ]
    }
   ],
   "source": [
    "sess=tf.Session()\n",
    "a=tf.placeholder(tf.int32)\n",
    "b=tf.placeholder(tf.int32)\n",
    "c=a+b\n",
    "output_c=sess.run(c,feed_dict={a:5,b:6})\n",
    "print(output_c)\n",
    "sess.close()"
   ]
  },
  {
   "cell_type": "code",
   "execution_count": 3,
   "metadata": {},
   "outputs": [
    {
     "name": "stdout",
     "output_type": "stream",
     "text": [
      "Sum = 11\n"
     ]
    }
   ],
   "source": [
    "sess=tf.Session()\n",
    "a=tf.Variable(5,tf.int32)\n",
    "b=tf.Variable(6,tf.int32)\n",
    "c=a+b\n",
    "init = tf.global_variables_initializer()\n",
    "output_c=sess.run(init)\n",
    "print(\"Sum =\", sess.run(c))\n",
    "sess.close()"
   ]
  },
  {
   "cell_type": "code",
   "execution_count": 4,
   "metadata": {},
   "outputs": [
    {
     "name": "stdout",
     "output_type": "stream",
     "text": [
      "Sum = 150\n"
     ]
    }
   ],
   "source": [
    "x=tf.constant(5)\n",
    "y=tf.placeholder(tf.int32,name='y')\n",
    "z=tf.Variable(6,tf.int32,name='z')\n",
    "c=x*y*z\n",
    "sess=tf.Session()\n",
    "init = tf.global_variables_initializer()\n",
    "output_c=sess.run(init)\n",
    "print(\"Sum =\", sess.run(c,feed_dict={y:5}))\n",
    "sess.close()"
   ]
  },
  {
   "cell_type": "code",
   "execution_count": 17,
   "metadata": {},
   "outputs": [
    {
     "name": "stdout",
     "output_type": "stream",
     "text": [
      "name: \"PrintV2_3\"\n",
      "op: \"PrintV2\"\n",
      "input: \"StringFormat_3\"\n",
      "attr {\n",
      "  key: \"end\"\n",
      "  value {\n",
      "    s: \"\\r\\n\"\n",
      "  }\n",
      "}\n",
      "attr {\n",
      "  key: \"output_stream\"\n",
      "  value {\n",
      "    s: \"stderr\"\n",
      "  }\n",
      "}\n",
      "\n"
     ]
    }
   ],
   "source": [
    "mat=tf.zeros((4,4),dtype=tf.dtypes.float32,name=None)\n",
    "print(tf.print(mat))"
   ]
  },
  {
   "cell_type": "code",
   "execution_count": 6,
   "metadata": {},
   "outputs": [
    {
     "name": "stdout",
     "output_type": "stream",
     "text": [
      "Tensor(\"Const_4:0\", shape=(1, 2), dtype=float32) Tensor(\"Const_5:0\", shape=(2, 1), dtype=float32) [[12.]]\n"
     ]
    }
   ],
   "source": [
    "matrix1 = tf.constant([[3., 3.]])\n",
    "matrix2 = tf.constant([[2.],[2.]])\n",
    "\n",
    "product = tf.matmul(matrix1, matrix2)\n",
    "with tf.Session() as sess:\n",
    "    result = sess.run(product)\n",
    "    print(matrix1,matrix2,result)\n",
    "    # ==> [[ 12.]]"
   ]
  },
  {
   "cell_type": "code",
   "execution_count": 7,
   "metadata": {},
   "outputs": [
    {
     "name": "stdout",
     "output_type": "stream",
     "text": [
      "Tensor(\"Const_6:0\", shape=(4, 4), dtype=float64)\n"
     ]
    }
   ],
   "source": [
    "import numpy as np\n",
    "mat=tf.constant(np.random.random((4,4)))\n",
    "print(mat)"
   ]
  },
  {
   "cell_type": "code",
   "execution_count": 8,
   "metadata": {},
   "outputs": [
    {
     "data": {
      "text/plain": [
       "array([[0.81889939, 0.37088689, 0.31302636, 0.21847931],\n",
       "       [0.60145166, 0.00371718, 0.25976964, 0.53631298],\n",
       "       [0.59504503, 0.68695011, 0.91076358, 0.81396146],\n",
       "       [0.95617112, 0.91912865, 0.55881906, 0.91182971]])"
      ]
     },
     "execution_count": 8,
     "metadata": {},
     "output_type": "execute_result"
    }
   ],
   "source": [
    "np.random.random((4,4))"
   ]
  },
  {
   "cell_type": "code",
   "execution_count": 9,
   "metadata": {},
   "outputs": [
    {
     "ename": "NameError",
     "evalue": "name 'my_matrix' is not defined",
     "output_type": "error",
     "traceback": [
      "\u001b[1;31m---------------------------------------------------------------------------\u001b[0m",
      "\u001b[1;31mNameError\u001b[0m                                 Traceback (most recent call last)",
      "\u001b[1;32m<ipython-input-9-415fc4b66a54>\u001b[0m in \u001b[0;36m<module>\u001b[1;34m\u001b[0m\n\u001b[1;32m----> 1\u001b[1;33m \u001b[0mzeros\u001b[0m \u001b[1;33m=\u001b[0m \u001b[0mtf\u001b[0m\u001b[1;33m.\u001b[0m\u001b[0mzeros\u001b[0m\u001b[1;33m(\u001b[0m\u001b[0mmy_matrix\u001b[0m\u001b[1;33m.\u001b[0m\u001b[0mshape\u001b[0m\u001b[1;33m(\u001b[0m\u001b[1;36m4\u001b[0m\u001b[1;33m,\u001b[0m\u001b[1;36m4\u001b[0m\u001b[1;33m)\u001b[0m\u001b[1;33m)\u001b[0m\u001b[1;33m\u001b[0m\u001b[1;33m\u001b[0m\u001b[0m\n\u001b[0m",
      "\u001b[1;31mNameError\u001b[0m: name 'my_matrix' is not defined"
     ]
    }
   ],
   "source": [
    "zeros = tf.zeros(my_matrix.shape(4,4))\n"
   ]
  },
  {
   "cell_type": "code",
   "execution_count": null,
   "metadata": {},
   "outputs": [],
   "source": [
    "mat=tf.random.normal((4,4),mean=0.0,stddev=1.0,dtype=tf.dtypes.float32,\n",
    "    seed=None,\n",
    "    name=None\n",
    ")\n",
    "mat"
   ]
  },
  {
   "cell_type": "code",
   "execution_count": null,
   "metadata": {},
   "outputs": [],
   "source": [
    "mat=tf.random.uniform(\n",
    "    (4,4),\n",
    "    minval=0,\n",
    "    maxval=1.0,\n",
    "    dtype=tf.dtypes.float32,\n",
    "    seed=None,\n",
    "    name=None\n",
    ")\n",
    "print(mat)"
   ]
  },
  {
   "cell_type": "code",
   "execution_count": null,
   "metadata": {},
   "outputs": [],
   "source": [
    "lst=tf.linspace(\n",
    "    0.0,\n",
    "    10.0,\n",
    "    1,\n",
    "    name=None\n",
    ")\n"
   ]
  },
  {
   "cell_type": "code",
   "execution_count": 19,
   "metadata": {},
   "outputs": [
    {
     "ename": "NameError",
     "evalue": "name 'io' is not defined",
     "output_type": "error",
     "traceback": [
      "\u001b[1;31m---------------------------------------------------------------------------\u001b[0m",
      "\u001b[1;31mNameError\u001b[0m                                 Traceback (most recent call last)",
      "\u001b[1;32m<ipython-input-19-a81f0a655001>\u001b[0m in \u001b[0;36m<module>\u001b[1;34m\u001b[0m\n\u001b[0;32m     14\u001b[0m \u001b[0mplot_image_summary\u001b[0m \u001b[1;33m=\u001b[0m \u001b[0mtf\u001b[0m\u001b[1;33m.\u001b[0m\u001b[0msummary\u001b[0m\u001b[1;33m.\u001b[0m\u001b[0mimage\u001b[0m\u001b[1;33m(\u001b[0m\u001b[1;34m'some_name'\u001b[0m\u001b[1;33m,\u001b[0m \u001b[0mimage\u001b[0m\u001b[1;33m,\u001b[0m \u001b[0mmax_outputs\u001b[0m\u001b[1;33m=\u001b[0m\u001b[1;36m1\u001b[0m\u001b[1;33m)\u001b[0m\u001b[1;33m\u001b[0m\u001b[1;33m\u001b[0m\u001b[0m\n\u001b[0;32m     15\u001b[0m \u001b[1;33m\u001b[0m\u001b[0m\n\u001b[1;32m---> 16\u001b[1;33m \u001b[0mplot_buf\u001b[0m \u001b[1;33m=\u001b[0m \u001b[0mget_plot_buf\u001b[0m\u001b[1;33m(\u001b[0m\u001b[1;36m1\u001b[0m\u001b[1;33m)\u001b[0m\u001b[1;33m\u001b[0m\u001b[1;33m\u001b[0m\u001b[0m\n\u001b[0m\u001b[0;32m     17\u001b[0m plot_image_summary_ = session.run(\n\u001b[0;32m     18\u001b[0m         \u001b[0mplot_image_summary\u001b[0m\u001b[1;33m,\u001b[0m\u001b[1;33m\u001b[0m\u001b[1;33m\u001b[0m\u001b[0m\n",
      "\u001b[1;32m<ipython-input-19-a81f0a655001>\u001b[0m in \u001b[0;36mget_plot_buf\u001b[1;34m(self)\u001b[0m\n\u001b[0;32m      1\u001b[0m \u001b[1;32mdef\u001b[0m \u001b[0mget_plot_buf\u001b[0m\u001b[1;33m(\u001b[0m\u001b[0mself\u001b[0m\u001b[1;33m)\u001b[0m\u001b[1;33m:\u001b[0m\u001b[1;33m\u001b[0m\u001b[1;33m\u001b[0m\u001b[0m\n\u001b[0;32m      2\u001b[0m     \u001b[0mplt\u001b[0m\u001b[1;33m.\u001b[0m\u001b[0mfigure\u001b[0m\u001b[1;33m(\u001b[0m\u001b[1;33m)\u001b[0m\u001b[1;33m\u001b[0m\u001b[1;33m\u001b[0m\u001b[0m\n\u001b[1;32m----> 3\u001b[1;33m     \u001b[0mbuf\u001b[0m \u001b[1;33m=\u001b[0m \u001b[0mio\u001b[0m\u001b[1;33m.\u001b[0m\u001b[0mBytesIO\u001b[0m\u001b[1;33m(\u001b[0m\u001b[1;33m)\u001b[0m\u001b[1;33m\u001b[0m\u001b[1;33m\u001b[0m\u001b[0m\n\u001b[0m\u001b[0;32m      4\u001b[0m     \u001b[0mplt\u001b[0m\u001b[1;33m.\u001b[0m\u001b[0msavefig\u001b[0m\u001b[1;33m(\u001b[0m\u001b[0mbuf\u001b[0m\u001b[1;33m,\u001b[0m \u001b[0mformat\u001b[0m\u001b[1;33m=\u001b[0m\u001b[1;34m'png'\u001b[0m\u001b[1;33m)\u001b[0m\u001b[1;33m\u001b[0m\u001b[1;33m\u001b[0m\u001b[0m\n\u001b[0;32m      5\u001b[0m     \u001b[0mplt\u001b[0m\u001b[1;33m.\u001b[0m\u001b[0mclose\u001b[0m\u001b[1;33m(\u001b[0m\u001b[1;33m)\u001b[0m\u001b[1;33m\u001b[0m\u001b[1;33m\u001b[0m\u001b[0m\n",
      "\u001b[1;31mNameError\u001b[0m: name 'io' is not defined"
     ]
    }
   ],
   "source": [
    "def get_plot_buf(self):\n",
    "    plt.figure()\n",
    "    buf = io.BytesIO()\n",
    "    plt.savefig(buf, format='png')\n",
    "    plt.close()\n",
    "    buf.seek(0)\n",
    "    return buf\n",
    "import matplotlib as mpl\n",
    "mpl.use('Agg')  # No display\n",
    "import matplotlib.pyplot as plt\n",
    "plot_buf_ph = tf.placeholder(tf.string)\n",
    "image = tf.image.decode_png(plot_buf_ph, channels=4)\n",
    "image = tf.expand_dims(image, 0)\n",
    "plot_image_summary = tf.summary.image('some_name', image, max_outputs=1)\n",
    "\n",
    "plot_buf = get_plot_buf()\n",
    "plot_image_summary_ = session.run(\n",
    "        plot_image_summary,\n",
    "        feed_dict={plot_buf_ph: plot_buf.getvalue()})\n",
    "summary_writer.add_summary(plot_image_summary_, global_step=iteration)\n"
   ]
  },
  {
   "cell_type": "code",
   "execution_count": null,
   "metadata": {},
   "outputs": [],
   "source": []
  }
 ],
 "metadata": {
  "kernelspec": {
   "display_name": "Python 3",
   "language": "python",
   "name": "python3"
  },
  "language_info": {
   "codemirror_mode": {
    "name": "ipython",
    "version": 3
   },
   "file_extension": ".py",
   "mimetype": "text/x-python",
   "name": "python",
   "nbconvert_exporter": "python",
   "pygments_lexer": "ipython3",
   "version": "3.7.3"
  }
 },
 "nbformat": 4,
 "nbformat_minor": 2
}
