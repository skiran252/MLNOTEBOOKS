{
 "cells": [
  {
   "cell_type": "code",
   "execution_count": 1,
   "metadata": {},
   "outputs": [],
   "source": [
    "import pandas as pd\n",
    "import numpy as np\n",
    "import matplotlib.pyplot as plt"
   ]
  },
  {
   "cell_type": "code",
   "execution_count": 2,
   "metadata": {},
   "outputs": [
    {
     "data": {
      "text/html": [
       "<div>\n",
       "<style scoped>\n",
       "    .dataframe tbody tr th:only-of-type {\n",
       "        vertical-align: middle;\n",
       "    }\n",
       "\n",
       "    .dataframe tbody tr th {\n",
       "        vertical-align: top;\n",
       "    }\n",
       "\n",
       "    .dataframe thead th {\n",
       "        text-align: right;\n",
       "    }\n",
       "</style>\n",
       "<table border=\"1\" class=\"dataframe\">\n",
       "  <thead>\n",
       "    <tr style=\"text-align: right;\">\n",
       "      <th></th>\n",
       "      <th>X1</th>\n",
       "      <th>X2</th>\n",
       "      <th>X3</th>\n",
       "      <th>X4</th>\n",
       "      <th>X5</th>\n",
       "      <th>X6</th>\n",
       "      <th>X7</th>\n",
       "      <th>X8</th>\n",
       "      <th>Y1</th>\n",
       "      <th>Y2</th>\n",
       "    </tr>\n",
       "  </thead>\n",
       "  <tbody>\n",
       "    <tr>\n",
       "      <th>0</th>\n",
       "      <td>0.98</td>\n",
       "      <td>514.5</td>\n",
       "      <td>294.0</td>\n",
       "      <td>110.25</td>\n",
       "      <td>7.0</td>\n",
       "      <td>2</td>\n",
       "      <td>0.0</td>\n",
       "      <td>0</td>\n",
       "      <td>15.55</td>\n",
       "      <td>21.33</td>\n",
       "    </tr>\n",
       "    <tr>\n",
       "      <th>1</th>\n",
       "      <td>0.98</td>\n",
       "      <td>514.5</td>\n",
       "      <td>294.0</td>\n",
       "      <td>110.25</td>\n",
       "      <td>7.0</td>\n",
       "      <td>3</td>\n",
       "      <td>0.0</td>\n",
       "      <td>0</td>\n",
       "      <td>15.55</td>\n",
       "      <td>21.33</td>\n",
       "    </tr>\n",
       "    <tr>\n",
       "      <th>2</th>\n",
       "      <td>0.98</td>\n",
       "      <td>514.5</td>\n",
       "      <td>294.0</td>\n",
       "      <td>110.25</td>\n",
       "      <td>7.0</td>\n",
       "      <td>4</td>\n",
       "      <td>0.0</td>\n",
       "      <td>0</td>\n",
       "      <td>15.55</td>\n",
       "      <td>21.33</td>\n",
       "    </tr>\n",
       "    <tr>\n",
       "      <th>3</th>\n",
       "      <td>0.98</td>\n",
       "      <td>514.5</td>\n",
       "      <td>294.0</td>\n",
       "      <td>110.25</td>\n",
       "      <td>7.0</td>\n",
       "      <td>5</td>\n",
       "      <td>0.0</td>\n",
       "      <td>0</td>\n",
       "      <td>15.55</td>\n",
       "      <td>21.33</td>\n",
       "    </tr>\n",
       "    <tr>\n",
       "      <th>4</th>\n",
       "      <td>0.90</td>\n",
       "      <td>563.5</td>\n",
       "      <td>318.5</td>\n",
       "      <td>122.50</td>\n",
       "      <td>7.0</td>\n",
       "      <td>2</td>\n",
       "      <td>0.0</td>\n",
       "      <td>0</td>\n",
       "      <td>20.84</td>\n",
       "      <td>28.28</td>\n",
       "    </tr>\n",
       "  </tbody>\n",
       "</table>\n",
       "</div>"
      ],
      "text/plain": [
       "     X1     X2     X3      X4   X5  X6   X7  X8     Y1     Y2\n",
       "0  0.98  514.5  294.0  110.25  7.0   2  0.0   0  15.55  21.33\n",
       "1  0.98  514.5  294.0  110.25  7.0   3  0.0   0  15.55  21.33\n",
       "2  0.98  514.5  294.0  110.25  7.0   4  0.0   0  15.55  21.33\n",
       "3  0.98  514.5  294.0  110.25  7.0   5  0.0   0  15.55  21.33\n",
       "4  0.90  563.5  318.5  122.50  7.0   2  0.0   0  20.84  28.28"
      ]
     },
     "execution_count": 2,
     "metadata": {},
     "output_type": "execute_result"
    }
   ],
   "source": [
    "dataset=pd.read_csv('energyed.csv')\n",
    "dataset.head()"
   ]
  },
  {
   "cell_type": "code",
   "execution_count": null,
   "metadata": {},
   "outputs": [],
   "source": [
    "from sklearn.impute import SimpleImputer\n",
    "imputer=SimpleImputer(missing_values = np.nan, strategy = 'mean', verbose = 0,copy=True)\n",
    "imputer.fit(X)"
   ]
  },
  {
   "cell_type": "code",
   "execution_count": 3,
   "metadata": {},
   "outputs": [],
   "source": [
    "X = dataset.iloc[:,-2].values\n",
    "y = dataset.iloc[:,-1].values"
   ]
  },
  {
   "cell_type": "code",
   "execution_count": 4,
   "metadata": {},
   "outputs": [],
   "source": []
  },
  {
   "cell_type": "code",
   "execution_count": 13,
   "metadata": {},
   "outputs": [
    {
     "ename": "ValueError",
     "evalue": "Expected 2D array, got 1D array instead:\narray=[15.55 15.55 15.55 15.55 20.84 21.46 20.71 19.68 19.5  19.95 19.34 18.31\n 17.05 17.41 16.95 15.98 28.52 29.9  29.63 28.75 24.77 23.93 24.77 23.93\n  6.07  6.05  6.01  6.04  6.37  6.4   6.37  6.4   6.85  6.79  6.77  6.81\n  7.18  7.1   7.1   7.1  10.85 10.54 10.77 10.56  8.6   8.49  8.45  8.5\n 24.58 24.63 24.63 24.59 29.03 29.87 29.14 28.09 26.28 26.91 26.37 25.27\n 23.53 24.03 23.54 22.58 35.56 37.12 36.9  35.94 32.96 32.12 32.94 32.21\n 10.36 10.43 10.36 10.39 10.71 10.8  10.7  10.75 11.11 11.13 11.09 11.16\n 11.68 11.69 11.7  11.69 15.41 15.2  15.42 15.21 12.96 12.97 12.93 13.02\n 24.29 24.31 24.13 24.25 28.88 29.68 28.83 27.9  26.48 27.02 26.33 25.36\n 23.75 24.23 23.67 22.79 35.65 37.26 36.97 36.03 33.16 32.4  33.12 32.41\n 10.42 10.46 10.32 10.45 10.64 10.72 10.55 10.68 11.45 11.46 11.32 11.49\n 11.45 11.42 11.33 11.43 15.41 15.18 15.34 15.19 12.88 13.   12.97 13.04\n 24.28 24.4  24.11 24.35 28.07 29.01 29.62 29.05 25.41 26.47 26.89 26.46\n 22.93 23.84 24.17 23.87 35.78 35.48 36.97 36.7  32.52 33.28 32.33 33.24\n 10.39 10.34 10.35 10.38 10.77 10.68 10.68 10.7  11.22 11.16 11.1  11.14\n 11.59 11.6  11.53 11.61 15.16 15.36 15.12 15.36 12.68 12.63 12.71 12.73\n 24.38 24.23 24.04 24.32 29.06 28.05 28.86 29.79 26.44 25.37 26.33 27.03\n 23.8  22.8  23.59 24.24 36.86 35.89 35.45 37.1  33.08 32.38 33.09 32.31\n 10.08 10.15 10.07 10.14 10.66 10.68 10.53 10.72 11.18 11.22 11.07 11.2\n 11.44 11.42 11.33 11.43 15.4  15.19 15.32 15.16 12.85 13.04 13.   13.\n 24.35 24.33 24.03 24.26 29.83 29.08 28.03 29.02 27.03 26.45 25.36 26.45\n 24.37 23.89 22.89 23.86 37.03 36.71 36.77 35.48 32.31 33.21 32.46 33.27\n 10.47 10.37 10.34 10.39 10.78 10.7  10.67 13.69 11.21 11.14 11.11 11.16\n 11.38 11.34 11.22 11.34 15.16 15.37 15.12 15.36 12.59 12.74 12.8  12.62\n 28.15 28.15 28.37 28.41 32.68 33.48 32.84 32.   29.54 30.05 29.6  28.66\n 26.84 27.27 26.97 26.19 38.67 40.03 39.86 39.04 36.96 36.13 36.91 36.43\n 12.43 12.5  12.41 12.45 12.57 12.65 12.57 12.63 12.78 12.93 12.73 12.72\n 13.17 13.18 13.17 13.18 17.5  17.35 17.52 17.37 15.09 15.12 15.08 15.16\n 28.67 28.57 28.18 28.6  32.46 33.27 32.33 31.66 29.34 29.87 29.27 28.4\n 25.74 25.98 25.38 24.94 38.57 40.19 39.97 38.98 36.95 36.28 36.86 36.45\n 12.35 12.45 12.16 12.3  12.33 12.29 12.2  12.49 12.85 12.87 12.73 12.95\n 13.05 12.93 12.77 13.   17.14 16.84 17.02 17.11 14.34 14.66 14.6  14.6\n 28.67 28.56 28.17 28.63 31.63 32.4  32.68 32.29 28.4  29.4  29.43 29.07\n 24.7  25.48 25.37 25.17 39.04 38.35 39.81 39.83 35.99 36.59 35.64 36.52\n 11.8  12.03 11.98 11.69 12.41 12.28 12.1  12.19 12.34 12.46 12.31 12.12\n 12.97 13.01 12.74 12.84 16.83 16.93 16.66 16.86 13.91 14.34 13.95 13.99\n 28.7  28.55 28.15 28.62 32.67 31.69 32.07 33.28 29.47 28.42 29.08 29.88\n 25.66 24.96 25.43 26.   40.   38.84 38.33 40.12 36.95 36.45 36.81 36.26\n 12.32 12.3  12.18 12.43 12.36 12.49 12.17 12.28 12.91 12.95 12.67 12.86\n 12.95 13.   12.86 12.92 16.99 16.69 16.56 16.62 14.33 14.61 14.61 14.65\n 28.69 28.58 28.15 28.61 33.13 32.31 31.53 32.46 29.71 29.09 28.31 29.39\n 25.7  25.17 24.6  25.49 39.89 39.83 39.01 38.65 35.69 36.64 36.06 36.7\n 12.12 11.67 11.64 12.02 12.27 12.19 12.25 12.27 12.47 12.12 12.18 12.47\n 12.93 12.82 12.78 13.02 16.73 16.86 16.76 16.92 13.68 13.99 14.16 13.86\n 32.26 32.26 32.49 32.53 36.47 37.24 36.66 35.96 31.89 32.39 32.09 31.29\n 29.22 29.91 29.53 28.65 41.4  42.62 42.5  41.67 40.78 39.97 40.71 40.43\n 14.52 14.61 14.5  14.55 14.51 14.6  14.5  14.58 14.51 14.7  14.42 14.42\n 15.23 15.23 15.23 15.23 19.52 19.36 19.48 19.42 15.09 17.17 17.14 17.14\n 32.82 32.71 32.24 32.72 35.84 36.57 36.06 35.69 32.48 32.74 32.13 31.64\n 28.95 29.49 28.64 28.01 41.64 43.1  42.74 41.92 40.78 40.15 40.57 40.42\n 14.54 14.45 14.18 14.5  14.7  14.66 14.4  14.71 14.75 14.71 14.33 14.62\n 15.34 15.29 15.09 15.3  19.2  18.88 18.9  19.12 16.76 17.23 17.26 17.15\n 32.82 32.69 32.23 32.75 34.24 34.95 35.05 34.29 31.28 32.12 32.05 31.84\n 28.67 29.67 29.47 28.91 41.26 41.3  42.49 42.08 39.32 39.84 38.89 39.68\n 13.97 14.22 14.1  13.78 14.07 14.03 13.94 13.86 14.32 14.56 14.33 14.08\n 15.16 15.18 14.72 14.9  18.48 18.71 18.48 18.46 16.47 16.35 16.55 16.74\n 32.85 32.67 32.21 32.74 36.45 35.73 35.4  36.57 32.38 31.66 32.15 32.75\n 28.93 28.05 28.64 29.52 42.77 41.73 41.32 42.96 40.68 40.4  40.6  40.11\n 14.37 14.48 14.32 14.44 14.6  14.7  14.47 14.66 14.54 14.62 14.53 14.71\n 15.34 15.29 15.09 15.3  19.06 19.13 19.   18.84 16.44 16.9  16.94 16.77\n 32.84 32.72 32.21 32.73 35.67 35.01 34.72 35.24 32.31 31.81 31.12 32.06\n 30.   29.5  29.06 29.92 42.11 41.96 41.09 40.79 38.82 39.72 39.31 39.86\n 14.41 14.19 14.17 14.39 12.43 12.63 12.76 12.42 14.12 14.28 14.37 14.21\n 14.96 14.92 14.92 15.16 17.69 18.19 18.16 17.88 16.54 16.44 16.48 16.64].\nReshape your data either using array.reshape(-1, 1) if your data has a single feature or array.reshape(1, -1) if it contains a single sample.",
     "output_type": "error",
     "traceback": [
      "\u001b[1;31m---------------------------------------------------------------------------\u001b[0m",
      "\u001b[1;31mValueError\u001b[0m                                Traceback (most recent call last)",
      "\u001b[1;32m<ipython-input-13-0da06090b007>\u001b[0m in \u001b[0;36m<module>\u001b[1;34m\u001b[0m\n\u001b[0;32m      1\u001b[0m \u001b[0mimputer\u001b[0m\u001b[1;33m=\u001b[0m\u001b[0mSimpleImputer\u001b[0m\u001b[1;33m(\u001b[0m\u001b[0mmissing_values\u001b[0m \u001b[1;33m=\u001b[0m \u001b[0mnp\u001b[0m\u001b[1;33m.\u001b[0m\u001b[0mnan\u001b[0m\u001b[1;33m,\u001b[0m \u001b[0mstrategy\u001b[0m \u001b[1;33m=\u001b[0m \u001b[1;34m'mean'\u001b[0m\u001b[1;33m,\u001b[0m \u001b[0mverbose\u001b[0m \u001b[1;33m=\u001b[0m \u001b[1;36m0\u001b[0m\u001b[1;33m,\u001b[0m\u001b[0mcopy\u001b[0m\u001b[1;33m=\u001b[0m\u001b[1;32mTrue\u001b[0m\u001b[1;33m)\u001b[0m\u001b[1;33m\u001b[0m\u001b[1;33m\u001b[0m\u001b[0m\n\u001b[1;32m----> 2\u001b[1;33m \u001b[0mimputer\u001b[0m\u001b[1;33m.\u001b[0m\u001b[0mfit\u001b[0m\u001b[1;33m(\u001b[0m\u001b[0mX\u001b[0m\u001b[1;33m)\u001b[0m\u001b[1;33m\u001b[0m\u001b[1;33m\u001b[0m\u001b[0m\n\u001b[0m",
      "\u001b[1;32mC:\\ProgramData\\Anaconda3\\lib\\site-packages\\sklearn\\impute\\_base.py\u001b[0m in \u001b[0;36mfit\u001b[1;34m(self, X, y)\u001b[0m\n\u001b[0;32m    230\u001b[0m         \u001b[0mself\u001b[0m \u001b[1;33m:\u001b[0m \u001b[0mSimpleImputer\u001b[0m\u001b[1;33m\u001b[0m\u001b[1;33m\u001b[0m\u001b[0m\n\u001b[0;32m    231\u001b[0m         \"\"\"\n\u001b[1;32m--> 232\u001b[1;33m         \u001b[0mX\u001b[0m \u001b[1;33m=\u001b[0m \u001b[0mself\u001b[0m\u001b[1;33m.\u001b[0m\u001b[0m_validate_input\u001b[0m\u001b[1;33m(\u001b[0m\u001b[0mX\u001b[0m\u001b[1;33m)\u001b[0m\u001b[1;33m\u001b[0m\u001b[1;33m\u001b[0m\u001b[0m\n\u001b[0m\u001b[0;32m    233\u001b[0m \u001b[1;33m\u001b[0m\u001b[0m\n\u001b[0;32m    234\u001b[0m         \u001b[1;31m# default fill_value is 0 for numerical input and \"missing_value\"\u001b[0m\u001b[1;33m\u001b[0m\u001b[1;33m\u001b[0m\u001b[1;33m\u001b[0m\u001b[0m\n",
      "\u001b[1;32mC:\\ProgramData\\Anaconda3\\lib\\site-packages\\sklearn\\impute\\_base.py\u001b[0m in \u001b[0;36m_validate_input\u001b[1;34m(self, X)\u001b[0m\n\u001b[0;32m    204\u001b[0m                                  \"\".format(self.strategy, X.dtype.kind))\n\u001b[0;32m    205\u001b[0m             \u001b[1;32melse\u001b[0m\u001b[1;33m:\u001b[0m\u001b[1;33m\u001b[0m\u001b[1;33m\u001b[0m\u001b[0m\n\u001b[1;32m--> 206\u001b[1;33m                 \u001b[1;32mraise\u001b[0m \u001b[0mve\u001b[0m\u001b[1;33m\u001b[0m\u001b[1;33m\u001b[0m\u001b[0m\n\u001b[0m\u001b[0;32m    207\u001b[0m \u001b[1;33m\u001b[0m\u001b[0m\n\u001b[0;32m    208\u001b[0m         \u001b[0m_check_inputs_dtype\u001b[0m\u001b[1;33m(\u001b[0m\u001b[0mX\u001b[0m\u001b[1;33m,\u001b[0m \u001b[0mself\u001b[0m\u001b[1;33m.\u001b[0m\u001b[0mmissing_values\u001b[0m\u001b[1;33m)\u001b[0m\u001b[1;33m\u001b[0m\u001b[1;33m\u001b[0m\u001b[0m\n",
      "\u001b[1;32mC:\\ProgramData\\Anaconda3\\lib\\site-packages\\sklearn\\impute\\_base.py\u001b[0m in \u001b[0;36m_validate_input\u001b[1;34m(self, X)\u001b[0m\n\u001b[0;32m    197\u001b[0m         \u001b[1;32mtry\u001b[0m\u001b[1;33m:\u001b[0m\u001b[1;33m\u001b[0m\u001b[1;33m\u001b[0m\u001b[0m\n\u001b[0;32m    198\u001b[0m             X = check_array(X, accept_sparse='csc', dtype=dtype,\n\u001b[1;32m--> 199\u001b[1;33m                             force_all_finite=force_all_finite, copy=self.copy)\n\u001b[0m\u001b[0;32m    200\u001b[0m         \u001b[1;32mexcept\u001b[0m \u001b[0mValueError\u001b[0m \u001b[1;32mas\u001b[0m \u001b[0mve\u001b[0m\u001b[1;33m:\u001b[0m\u001b[1;33m\u001b[0m\u001b[1;33m\u001b[0m\u001b[0m\n\u001b[0;32m    201\u001b[0m             \u001b[1;32mif\u001b[0m \u001b[1;34m\"could not convert\"\u001b[0m \u001b[1;32min\u001b[0m \u001b[0mstr\u001b[0m\u001b[1;33m(\u001b[0m\u001b[0mve\u001b[0m\u001b[1;33m)\u001b[0m\u001b[1;33m:\u001b[0m\u001b[1;33m\u001b[0m\u001b[1;33m\u001b[0m\u001b[0m\n",
      "\u001b[1;32mC:\\ProgramData\\Anaconda3\\lib\\site-packages\\sklearn\\utils\\validation.py\u001b[0m in \u001b[0;36mcheck_array\u001b[1;34m(array, accept_sparse, accept_large_sparse, dtype, order, copy, force_all_finite, ensure_2d, allow_nd, ensure_min_samples, ensure_min_features, warn_on_dtype, estimator)\u001b[0m\n\u001b[0;32m    519\u001b[0m                     \u001b[1;34m\"Reshape your data either using array.reshape(-1, 1) if \"\u001b[0m\u001b[1;33m\u001b[0m\u001b[1;33m\u001b[0m\u001b[0m\n\u001b[0;32m    520\u001b[0m                     \u001b[1;34m\"your data has a single feature or array.reshape(1, -1) \"\u001b[0m\u001b[1;33m\u001b[0m\u001b[1;33m\u001b[0m\u001b[0m\n\u001b[1;32m--> 521\u001b[1;33m                     \"if it contains a single sample.\".format(array))\n\u001b[0m\u001b[0;32m    522\u001b[0m \u001b[1;33m\u001b[0m\u001b[0m\n\u001b[0;32m    523\u001b[0m         \u001b[1;31m# in the future np.flexible dtypes will be handled like object dtypes\u001b[0m\u001b[1;33m\u001b[0m\u001b[1;33m\u001b[0m\u001b[1;33m\u001b[0m\u001b[0m\n",
      "\u001b[1;31mValueError\u001b[0m: Expected 2D array, got 1D array instead:\narray=[15.55 15.55 15.55 15.55 20.84 21.46 20.71 19.68 19.5  19.95 19.34 18.31\n 17.05 17.41 16.95 15.98 28.52 29.9  29.63 28.75 24.77 23.93 24.77 23.93\n  6.07  6.05  6.01  6.04  6.37  6.4   6.37  6.4   6.85  6.79  6.77  6.81\n  7.18  7.1   7.1   7.1  10.85 10.54 10.77 10.56  8.6   8.49  8.45  8.5\n 24.58 24.63 24.63 24.59 29.03 29.87 29.14 28.09 26.28 26.91 26.37 25.27\n 23.53 24.03 23.54 22.58 35.56 37.12 36.9  35.94 32.96 32.12 32.94 32.21\n 10.36 10.43 10.36 10.39 10.71 10.8  10.7  10.75 11.11 11.13 11.09 11.16\n 11.68 11.69 11.7  11.69 15.41 15.2  15.42 15.21 12.96 12.97 12.93 13.02\n 24.29 24.31 24.13 24.25 28.88 29.68 28.83 27.9  26.48 27.02 26.33 25.36\n 23.75 24.23 23.67 22.79 35.65 37.26 36.97 36.03 33.16 32.4  33.12 32.41\n 10.42 10.46 10.32 10.45 10.64 10.72 10.55 10.68 11.45 11.46 11.32 11.49\n 11.45 11.42 11.33 11.43 15.41 15.18 15.34 15.19 12.88 13.   12.97 13.04\n 24.28 24.4  24.11 24.35 28.07 29.01 29.62 29.05 25.41 26.47 26.89 26.46\n 22.93 23.84 24.17 23.87 35.78 35.48 36.97 36.7  32.52 33.28 32.33 33.24\n 10.39 10.34 10.35 10.38 10.77 10.68 10.68 10.7  11.22 11.16 11.1  11.14\n 11.59 11.6  11.53 11.61 15.16 15.36 15.12 15.36 12.68 12.63 12.71 12.73\n 24.38 24.23 24.04 24.32 29.06 28.05 28.86 29.79 26.44 25.37 26.33 27.03\n 23.8  22.8  23.59 24.24 36.86 35.89 35.45 37.1  33.08 32.38 33.09 32.31\n 10.08 10.15 10.07 10.14 10.66 10.68 10.53 10.72 11.18 11.22 11.07 11.2\n 11.44 11.42 11.33 11.43 15.4  15.19 15.32 15.16 12.85 13.04 13.   13.\n 24.35 24.33 24.03 24.26 29.83 29.08 28.03 29.02 27.03 26.45 25.36 26.45\n 24.37 23.89 22.89 23.86 37.03 36.71 36.77 35.48 32.31 33.21 32.46 33.27\n 10.47 10.37 10.34 10.39 10.78 10.7  10.67 13.69 11.21 11.14 11.11 11.16\n 11.38 11.34 11.22 11.34 15.16 15.37 15.12 15.36 12.59 12.74 12.8  12.62\n 28.15 28.15 28.37 28.41 32.68 33.48 32.84 32.   29.54 30.05 29.6  28.66\n 26.84 27.27 26.97 26.19 38.67 40.03 39.86 39.04 36.96 36.13 36.91 36.43\n 12.43 12.5  12.41 12.45 12.57 12.65 12.57 12.63 12.78 12.93 12.73 12.72\n 13.17 13.18 13.17 13.18 17.5  17.35 17.52 17.37 15.09 15.12 15.08 15.16\n 28.67 28.57 28.18 28.6  32.46 33.27 32.33 31.66 29.34 29.87 29.27 28.4\n 25.74 25.98 25.38 24.94 38.57 40.19 39.97 38.98 36.95 36.28 36.86 36.45\n 12.35 12.45 12.16 12.3  12.33 12.29 12.2  12.49 12.85 12.87 12.73 12.95\n 13.05 12.93 12.77 13.   17.14 16.84 17.02 17.11 14.34 14.66 14.6  14.6\n 28.67 28.56 28.17 28.63 31.63 32.4  32.68 32.29 28.4  29.4  29.43 29.07\n 24.7  25.48 25.37 25.17 39.04 38.35 39.81 39.83 35.99 36.59 35.64 36.52\n 11.8  12.03 11.98 11.69 12.41 12.28 12.1  12.19 12.34 12.46 12.31 12.12\n 12.97 13.01 12.74 12.84 16.83 16.93 16.66 16.86 13.91 14.34 13.95 13.99\n 28.7  28.55 28.15 28.62 32.67 31.69 32.07 33.28 29.47 28.42 29.08 29.88\n 25.66 24.96 25.43 26.   40.   38.84 38.33 40.12 36.95 36.45 36.81 36.26\n 12.32 12.3  12.18 12.43 12.36 12.49 12.17 12.28 12.91 12.95 12.67 12.86\n 12.95 13.   12.86 12.92 16.99 16.69 16.56 16.62 14.33 14.61 14.61 14.65\n 28.69 28.58 28.15 28.61 33.13 32.31 31.53 32.46 29.71 29.09 28.31 29.39\n 25.7  25.17 24.6  25.49 39.89 39.83 39.01 38.65 35.69 36.64 36.06 36.7\n 12.12 11.67 11.64 12.02 12.27 12.19 12.25 12.27 12.47 12.12 12.18 12.47\n 12.93 12.82 12.78 13.02 16.73 16.86 16.76 16.92 13.68 13.99 14.16 13.86\n 32.26 32.26 32.49 32.53 36.47 37.24 36.66 35.96 31.89 32.39 32.09 31.29\n 29.22 29.91 29.53 28.65 41.4  42.62 42.5  41.67 40.78 39.97 40.71 40.43\n 14.52 14.61 14.5  14.55 14.51 14.6  14.5  14.58 14.51 14.7  14.42 14.42\n 15.23 15.23 15.23 15.23 19.52 19.36 19.48 19.42 15.09 17.17 17.14 17.14\n 32.82 32.71 32.24 32.72 35.84 36.57 36.06 35.69 32.48 32.74 32.13 31.64\n 28.95 29.49 28.64 28.01 41.64 43.1  42.74 41.92 40.78 40.15 40.57 40.42\n 14.54 14.45 14.18 14.5  14.7  14.66 14.4  14.71 14.75 14.71 14.33 14.62\n 15.34 15.29 15.09 15.3  19.2  18.88 18.9  19.12 16.76 17.23 17.26 17.15\n 32.82 32.69 32.23 32.75 34.24 34.95 35.05 34.29 31.28 32.12 32.05 31.84\n 28.67 29.67 29.47 28.91 41.26 41.3  42.49 42.08 39.32 39.84 38.89 39.68\n 13.97 14.22 14.1  13.78 14.07 14.03 13.94 13.86 14.32 14.56 14.33 14.08\n 15.16 15.18 14.72 14.9  18.48 18.71 18.48 18.46 16.47 16.35 16.55 16.74\n 32.85 32.67 32.21 32.74 36.45 35.73 35.4  36.57 32.38 31.66 32.15 32.75\n 28.93 28.05 28.64 29.52 42.77 41.73 41.32 42.96 40.68 40.4  40.6  40.11\n 14.37 14.48 14.32 14.44 14.6  14.7  14.47 14.66 14.54 14.62 14.53 14.71\n 15.34 15.29 15.09 15.3  19.06 19.13 19.   18.84 16.44 16.9  16.94 16.77\n 32.84 32.72 32.21 32.73 35.67 35.01 34.72 35.24 32.31 31.81 31.12 32.06\n 30.   29.5  29.06 29.92 42.11 41.96 41.09 40.79 38.82 39.72 39.31 39.86\n 14.41 14.19 14.17 14.39 12.43 12.63 12.76 12.42 14.12 14.28 14.37 14.21\n 14.96 14.92 14.92 15.16 17.69 18.19 18.16 17.88 16.54 16.44 16.48 16.64].\nReshape your data either using array.reshape(-1, 1) if your data has a single feature or array.reshape(1, -1) if it contains a single sample."
     ]
    }
   ],
   "source": []
  },
  {
   "cell_type": "code",
   "execution_count": 10,
   "metadata": {},
   "outputs": [
    {
     "ename": "NotFittedError",
     "evalue": "This SimpleImputer instance is not fitted yet. Call 'fit' with appropriate arguments before using this method.",
     "output_type": "error",
     "traceback": [
      "\u001b[1;31m---------------------------------------------------------------------------\u001b[0m",
      "\u001b[1;31mNotFittedError\u001b[0m                            Traceback (most recent call last)",
      "\u001b[1;32m<ipython-input-10-e1658703049d>\u001b[0m in \u001b[0;36m<module>\u001b[1;34m\u001b[0m\n\u001b[1;32m----> 1\u001b[1;33m \u001b[0mX\u001b[0m \u001b[1;33m=\u001b[0m \u001b[0mimputer\u001b[0m\u001b[1;33m.\u001b[0m\u001b[0mtransform\u001b[0m\u001b[1;33m(\u001b[0m\u001b[0mX\u001b[0m\u001b[1;33m)\u001b[0m\u001b[1;33m\u001b[0m\u001b[1;33m\u001b[0m\u001b[0m\n\u001b[0m",
      "\u001b[1;32mC:\\ProgramData\\Anaconda3\\lib\\site-packages\\sklearn\\impute\\_base.py\u001b[0m in \u001b[0;36mtransform\u001b[1;34m(self, X)\u001b[0m\n\u001b[0;32m    374\u001b[0m             \u001b[0mThe\u001b[0m \u001b[0minput\u001b[0m \u001b[0mdata\u001b[0m \u001b[0mto\u001b[0m \u001b[0mcomplete\u001b[0m\u001b[1;33m.\u001b[0m\u001b[1;33m\u001b[0m\u001b[1;33m\u001b[0m\u001b[0m\n\u001b[0;32m    375\u001b[0m         \"\"\"\n\u001b[1;32m--> 376\u001b[1;33m         \u001b[0mcheck_is_fitted\u001b[0m\u001b[1;33m(\u001b[0m\u001b[0mself\u001b[0m\u001b[1;33m,\u001b[0m \u001b[1;34m'statistics_'\u001b[0m\u001b[1;33m)\u001b[0m\u001b[1;33m\u001b[0m\u001b[1;33m\u001b[0m\u001b[0m\n\u001b[0m\u001b[0;32m    377\u001b[0m \u001b[1;33m\u001b[0m\u001b[0m\n\u001b[0;32m    378\u001b[0m         \u001b[0mX\u001b[0m \u001b[1;33m=\u001b[0m \u001b[0mself\u001b[0m\u001b[1;33m.\u001b[0m\u001b[0m_validate_input\u001b[0m\u001b[1;33m(\u001b[0m\u001b[0mX\u001b[0m\u001b[1;33m)\u001b[0m\u001b[1;33m\u001b[0m\u001b[1;33m\u001b[0m\u001b[0m\n",
      "\u001b[1;32mC:\\ProgramData\\Anaconda3\\lib\\site-packages\\sklearn\\utils\\validation.py\u001b[0m in \u001b[0;36mcheck_is_fitted\u001b[1;34m(estimator, attributes, msg, all_or_any)\u001b[0m\n\u001b[0;32m    912\u001b[0m \u001b[1;33m\u001b[0m\u001b[0m\n\u001b[0;32m    913\u001b[0m     \u001b[1;32mif\u001b[0m \u001b[1;32mnot\u001b[0m \u001b[0mall_or_any\u001b[0m\u001b[1;33m(\u001b[0m\u001b[1;33m[\u001b[0m\u001b[0mhasattr\u001b[0m\u001b[1;33m(\u001b[0m\u001b[0mestimator\u001b[0m\u001b[1;33m,\u001b[0m \u001b[0mattr\u001b[0m\u001b[1;33m)\u001b[0m \u001b[1;32mfor\u001b[0m \u001b[0mattr\u001b[0m \u001b[1;32min\u001b[0m \u001b[0mattributes\u001b[0m\u001b[1;33m]\u001b[0m\u001b[1;33m)\u001b[0m\u001b[1;33m:\u001b[0m\u001b[1;33m\u001b[0m\u001b[1;33m\u001b[0m\u001b[0m\n\u001b[1;32m--> 914\u001b[1;33m         \u001b[1;32mraise\u001b[0m \u001b[0mNotFittedError\u001b[0m\u001b[1;33m(\u001b[0m\u001b[0mmsg\u001b[0m \u001b[1;33m%\u001b[0m \u001b[1;33m{\u001b[0m\u001b[1;34m'name'\u001b[0m\u001b[1;33m:\u001b[0m \u001b[0mtype\u001b[0m\u001b[1;33m(\u001b[0m\u001b[0mestimator\u001b[0m\u001b[1;33m)\u001b[0m\u001b[1;33m.\u001b[0m\u001b[0m__name__\u001b[0m\u001b[1;33m}\u001b[0m\u001b[1;33m)\u001b[0m\u001b[1;33m\u001b[0m\u001b[1;33m\u001b[0m\u001b[0m\n\u001b[0m\u001b[0;32m    915\u001b[0m \u001b[1;33m\u001b[0m\u001b[0m\n\u001b[0;32m    916\u001b[0m \u001b[1;33m\u001b[0m\u001b[0m\n",
      "\u001b[1;31mNotFittedError\u001b[0m: This SimpleImputer instance is not fitted yet. Call 'fit' with appropriate arguments before using this method."
     ]
    }
   ],
   "source": [
    "X = imputer.transform(X)"
   ]
  },
  {
   "cell_type": "code",
   "execution_count": null,
   "metadata": {},
   "outputs": [],
   "source": [
    "from sklearn.model_selection import train_test_split"
   ]
  },
  {
   "cell_type": "code",
   "execution_count": null,
   "metadata": {},
   "outputs": [],
   "source": [
    "X_train,X_test,y_train,y_test=train_test_split(X,y,test_size=0.2,random_state=0)"
   ]
  },
  {
   "cell_type": "code",
   "execution_count": null,
   "metadata": {},
   "outputs": [],
   "source": [
    "from sklearn.linear_model import LinearRegression\n",
    "regressor = LinearRegression()\n",
    "regressor.fit(X_train, y_train)"
   ]
  },
  {
   "cell_type": "code",
   "execution_count": null,
   "metadata": {},
   "outputs": [],
   "source": [
    "y_pred = regressor.predict(X_test)"
   ]
  },
  {
   "cell_type": "code",
   "execution_count": null,
   "metadata": {},
   "outputs": [],
   "source": [
    "plt.scatter(X_train, y_train, color = 'red')\n",
    "plt.plot(X_train, regressor.predict(X_train), color = 'blue')\n",
    "plt.title('Heating Load vs Cooling load (Training set)')\n",
    "plt.xlabel('Heating Load')\n",
    "plt.ylabel('Cooling load')\n",
    "plt.show()"
   ]
  },
  {
   "cell_type": "code",
   "execution_count": null,
   "metadata": {},
   "outputs": [],
   "source": [
    "print(regressor.score)\n",
    "from sklearn import metrics"
   ]
  },
  {
   "cell_type": "code",
   "execution_count": null,
   "metadata": {},
   "outputs": [],
   "source": [
    "print(print(np.sqrt(metrics.mean_squared_error(y_test, y_pred))))\n"
   ]
  },
  {
   "cell_type": "code",
   "execution_count": null,
   "metadata": {},
   "outputs": [],
   "source": [
    "print(regressor.predict([[24.57]]))"
   ]
  },
  {
   "cell_type": "code",
   "execution_count": null,
   "metadata": {},
   "outputs": [],
   "source": []
  }
 ],
 "metadata": {
  "kernelspec": {
   "display_name": "Python 3",
   "language": "python",
   "name": "python3"
  },
  "language_info": {
   "codemirror_mode": {
    "name": "ipython",
    "version": 3
   },
   "file_extension": ".py",
   "mimetype": "text/x-python",
   "name": "python",
   "nbconvert_exporter": "python",
   "pygments_lexer": "ipython3",
   "version": "3.7.3"
  }
 },
 "nbformat": 4,
 "nbformat_minor": 2
}
