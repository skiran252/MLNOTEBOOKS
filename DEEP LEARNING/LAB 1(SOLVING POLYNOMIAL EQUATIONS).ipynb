{
 "cells": [
  {
   "cell_type": "code",
   "execution_count": null,
   "metadata": {},
   "outputs": [],
   "source": [
    "import tensorflow as tf\n",
    "a = tf.constant(2.0)\n",
    "b = tf.constant(1.0)\n",
    "c = tf.constant(1.0)\n",
    "x = tf.Variable(10.0, trainable=True)\n",
    "LR = 0.01 #Learning Rate\n",
    "y = a * x* x - b *x - c #2x^2 - x - 1\n",
    "#One of the solution is x = 1 which we are going to compute\n",
    "optAdam = tf.train.AdamOptimizer(LR).minimize(y)\n",
    "optGD = tf.train.GradientDescentOptimizer(LR).minimize(y)\n",
    "#We will compute such that y = 0\n",
    "init = tf.global_variables_initializer()\n",
    "\n",
    "with tf.Session() as sess:\n",
    "    sess.run(init)\n",
    "    for i in range(10000):\n",
    "        print(sess.run([x,y]))\n",
    "        sess.run(optAdam)\n",
    "        if(sess.run(y) < 0):\n",
    "\n",
    "            break\n",
    "\n",
    "with tf.Session() as sess1:\n",
    "    sess1.run(init)\n",
    "    for i in range(10000):\n",
    "        print(sess1.run([x,y]))\n",
    "        sess1.run(optGD)\n",
    "        if(sess1.run(y) < 0):\n",
    "            break"
   ]
  },
  {
   "cell_type": "code",
   "execution_count": null,
   "metadata": {},
   "outputs": [],
   "source": []
  }
 ],
 "metadata": {
  "kernelspec": {
   "display_name": "Python 3",
   "language": "python",
   "name": "python3"
  },
  "language_info": {
   "codemirror_mode": {
    "name": "ipython",
    "version": 3
   },
   "file_extension": ".py",
   "mimetype": "text/x-python",
   "name": "python",
   "nbconvert_exporter": "python",
   "pygments_lexer": "ipython3",
   "version": "3.7.6"
  }
 },
 "nbformat": 4,
 "nbformat_minor": 2
}
