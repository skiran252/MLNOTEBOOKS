{
 "cells": [
  {
   "cell_type": "code",
   "execution_count": 1,
   "metadata": {},
   "outputs": [
    {
     "name": "stdout",
     "output_type": "stream",
     "text": [
      "[[0 0]\n",
      " [0 1]\n",
      " [1 0]\n",
      " [1 1]] and [0 0 0 1]\n",
      "[[0 0]\n",
      " [0 1]\n",
      " [1 0]\n",
      " [1 1]] or [0 1 1 1]\n"
     ]
    },
    {
     "data": {
      "text/plain": [
       "<Figure size 640x480 with 1 Axes>"
      ]
     },
     "metadata": {},
     "output_type": "display_data"
    }
   ],
   "source": [
    "import numpy as np\n",
    "from matplotlib import pyplot as plt\n",
    "import matplotlib.lines as mlines\n",
    "\n",
    "def calculate(lgate,weights, inputs, bias):\n",
    "    output=0\n",
    "    model = np.add(np.dot(inputs, weights), bias)\n",
    "    if(lgate=='and'):\n",
    "        if(model>=2):\n",
    "            output=1\n",
    "    if(lgate=='or'):      \n",
    "        if(model>=1):\n",
    "            output=1 \n",
    "    return output\n",
    "    \n",
    "def compute(data, logic_gate, weights, bias):\n",
    "    weights = np.array(weights)\n",
    "    output = np.array([calculate(logic_gate,weights, datum, bias) for datum in data ])\n",
    "    return output\n",
    "\n",
    "\n",
    "def main():\n",
    "    dataset = np.array([\n",
    "      [0, 0],\n",
    "      [0, 1],\n",
    "      [1, 0],\n",
    "      [1, 1]\n",
    "    ])\n",
    "    gates = {\n",
    "        \"and\": compute(dataset, \"and\", [1, 1], 0),\n",
    "        \"or\": compute(dataset, \"or\", [1, 1], 0),\n",
    "    }\n",
    "\n",
    "    for gate in gates:\n",
    "        print(dataset, gate, gates[gate])\n",
    "\n",
    "    X, Y = zip(*dataset)\n",
    "    plt.scatter(X, Y, c=\"r\")\n",
    "    \n",
    "    X, Y = zip(*dataset)\n",
    "    plt.scatter(X, Y, c=\"r\")\n",
    "    \n",
    "    l = mlines.Line2D([1,0], [0,1])\n",
    "    ax = plt.gca()\n",
    "    ax.add_line(l) \n",
    "    plt.show()\n",
    "if __name__ == '__main__':\n",
    " main()"
   ]
  },
  {
   "cell_type": "code",
   "execution_count": null,
   "metadata": {},
   "outputs": [],
   "source": []
  }
 ],
 "metadata": {
  "kernelspec": {
   "display_name": "Python 3",
   "language": "python",
   "name": "python3"
  },
  "language_info": {
   "codemirror_mode": {
    "name": "ipython",
    "version": 3
   },
   "file_extension": ".py",
   "mimetype": "text/x-python",
   "name": "python",
   "nbconvert_exporter": "python",
   "pygments_lexer": "ipython3",
   "version": "3.7.4"
  }
 },
 "nbformat": 4,
 "nbformat_minor": 2
}
