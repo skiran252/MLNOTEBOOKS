{
 "cells": [
  {
   "cell_type": "code",
   "execution_count": 1,
   "metadata": {},
   "outputs": [
    {
     "name": "stdout",
     "output_type": "stream",
     "text": [
      "Converged in 2 steps.\n",
      "Weights found: [-0.5         0.21799741  0.08410959]\n"
     ]
    },
    {
     "data": {
      "image/png": "[encoded data removed]",
      "text/plain": [
       "<Figure size 432x288 with 1 Axes>"
      ]
     },
     "metadata": {
      "needs_background": "light"
     },
     "output_type": "display_data"
    }
   ],
   "source": [
    "import matplotlib.pyplot as plt\n",
    "import numpy as np\n",
    "\n",
    "# Generate two random clusters of 2D data\n",
    "N_c = 100\n",
    "A = 0.3*np.random.randn(N_c, 2)+[1, 1]\n",
    "B = 0.3*np.random.randn(N_c, 2)+[3, 3]\n",
    "X = np.hstack((np.ones(2*N_c).reshape(2*N_c, 1), np.vstack((A, B))))\n",
    "Y = np.vstack(((-1*np.ones(N_c)).reshape(N_c, 1), np.ones(N_c).reshape(N_c, 1)))\n",
    "N = 2*N_c\n",
    "\n",
    "# Run perceptron\n",
    "delta = 1E-7\n",
    "eta = 5E-1\n",
    "max_iter = 500\n",
    "w = np.array([0, 0, 0])\n",
    "w_old = np.array([0, 0, 0])\n",
    "for t in range(0, max_iter):\n",
    "    for i in range(0, N):\n",
    "        x_i = X[i, :]\n",
    "        y_i = Y[i]\n",
    "        h = np.sign(np.dot(w, x_i))\n",
    "        if h != y_i:\n",
    "            w = w+eta*y_i*x_i\n",
    "\n",
    "    if 1/(float(N))*np.abs(np.sum(w_old-w)) < delta:\n",
    "        print(\"Converged in\", t, \"steps.\")\n",
    "        break\n",
    "\n",
    "    w_old = w\n",
    "\n",
    "    if t==max_iter-1:\n",
    "        print(\"Warning, did not converge.\")\n",
    "\n",
    "print(\"Weights found:\",w)\n",
    "\n",
    "\n",
    "tt = np.linspace(np.min(X[:, 1])-1, np.max(X[:, 1])+1, 10)\n",
    "bf_line = -w[0]/w[2]-w[1]/w[2]*tt\n",
    "\n",
    "plt.plot(X[0:N_c-1, 1], X[0:N_c-1, 2], 'ro', X[N_c:, 1], X[N_c:, 2], 'bo', tt, bf_line, 'k-')\n",
    "if -w[1]/w[2]<0:\n",
    "    plt.fill_between(tt, -1, bf_line, facecolor='red', alpha=0.5)\n",
    "    plt.fill_between(tt, bf_line, 5, facecolor='blue', alpha=0.5)\n",
    "else:\n",
    "    plt.fill_between(tt, -1, bf_line, facecolor='blue', alpha=0.5)\n",
    "    plt.fill_between(tt, bf_line, 5, facecolor='red', alpha=0.5)\n",
    "\n",
    "plt.gca().axes.get_xaxis().set_visible(False)\n",
    "plt.gca().axes.get_yaxis().set_visible(False)\n",
    "plt.axis([np.min(X[:, 1])-0.5, np.max(X[:, 1])+0.5, np.min(X[:, 2])-0.5, np.max(X[:, 2])+0.5])\n",
    "plt.savefig('two_class.png')\n",
    "plt.show()\n",
    "\n"
   ]
  },
  {
   "cell_type": "code",
   "execution_count": null,
   "metadata": {},
   "outputs": [],
   "source": []
  }
 ],
 "metadata": {
  "kernelspec": {
   "display_name": "Python 3",
   "language": "python",
   "name": "python3"
  },
  "language_info": {
   "codemirror_mode": {
    "name": "ipython",
    "version": 3
   },
   "file_extension": ".py",
   "mimetype": "text/x-python",
   "name": "python",
   "nbconvert_exporter": "python",
   "pygments_lexer": "ipython3",
   "version": "3.7.6"
  }
 },
 "nbformat": 4,
 "nbformat_minor": 4
}
